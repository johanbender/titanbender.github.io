{
 "cells": [
  {
   "cell_type": "markdown",
   "metadata": {},
   "source": [
    "# Project Assignment\n",
    "\n",
    "See the webpage for supplementary descriptions.\n",
    "* [link to d3 home page](https://titanbender.github.io) \n",
    "* [link to git repo](https://github.com/titanbender/titanbender.github.io)"
   ]
  },
  {
   "cell_type": "code",
   "execution_count": null,
   "metadata": {},
   "outputs": [],
   "source": [
    "from IPython.display import VimeoVideo\n",
    "VimeoVideo(\"211653855\",width=640, height=360)"
   ]
  },
  {
   "cell_type": "markdown",
   "metadata": {},
   "source": [
    "The video has a length of 03:30. The fist 20 secounds are introduction and the music is fading out in the last 15 secounds of the video."
   ]
  },
  {
   "cell_type": "markdown",
   "metadata": {},
   "source": [
    "## 1. Motivation\n",
    "- What is your dataset?\n",
    "- Why did you choose this/these particular dataset(s)?\n",
    "- What was your goal for the end user's experience?\n",
    "\n",
    "\n",
    "\n",
    "\n"
   ]
  },
  {
   "cell_type": "markdown",
   "metadata": {},
   "source": [
    "## 2. Basic stats. Let's understand the dataset better\n",
    "- Write about your choices in data cleaning and preprocessing\n",
    "- Write a short section that discusses the dataset stats (here you can recycle the work you did for Project Assignment A)"
   ]
  },
  {
   "cell_type": "code",
   "execution_count": 1,
   "metadata": {},
   "outputs": [
    {
     "name": "stderr",
     "output_type": "stream",
     "text": [
      "/Users/anders/anaconda2/lib/python2.7/site-packages/matplotlib/font_manager.py:273: UserWarning: Matplotlib is building the font cache using fc-list. This may take a moment.\n",
      "  warnings.warn('Matplotlib is building the font cache using fc-list. This may take a moment.')\n"
     ]
    }
   ],
   "source": [
    "# Used libraries\n",
    "import json\n",
    "import numpy as np\n",
    "import pandas as pd\n",
    "from __future__ import division\n",
    "import matplotlib.pyplot as plt\n",
    "import collections \n",
    "from sklearn.cluster import KMeans\n",
    "from sklearn.cross_validation import train_test_split\n",
    "from sklearn.neighbors import KNeighborsClassifier\n",
    "from sklearn import cross_validation\n",
    "import datetime as dt\n",
    "import geoplotlib\n",
    "from geoplotlib.utils import BoundingBox\n",
    "from sklearn import neighbors\n",
    "import gmplot"
   ]
  },
  {
   "cell_type": "code",
   "execution_count": 2,
   "metadata": {
    "collapsed": true
   },
   "outputs": [],
   "source": [
    "# Create JSON function \n",
    "def createJSON(my_dict, file_name):\n",
    "    with open(file_name, 'w') as outfile:\n",
    "        json.dump(my_dict, outfile)\n",
    "        outfile.close()"
   ]
  },
  {
   "cell_type": "code",
   "execution_count": 3,
   "metadata": {
    "collapsed": true
   },
   "outputs": [],
   "source": [
    "# Create geojson\n",
    "def parseJson(year,file_name):\n",
    "    # number of obs. \n",
    "    tmp_DF = raw_DF[raw_DF[\"YEAR\"] == year]\n",
    "    #\n",
    "    tmp_lat = list(tmp_DF[\"LATITUDE\"])\n",
    "    tmp_lon = list(tmp_DF[\"LONGITUDE\"])\n",
    "    tmp_hour = list(tmp_DF[\"HOUR\"])\n",
    "    tmp_borough = list(tmp_DF[\"BOROUGH\"])\n",
    "    # \n",
    "    N_tot = len(tmp_lat)\n",
    "    \n",
    "    # output\n",
    "    out_dict = [{'lat': tmp_lat[ii],\n",
    "                 'lon': tmp_lon[ii],\n",
    "                 'r': 1} for ii in range(0,N_tot)]\n",
    "    #\n",
    "    createJSON(out_dict, file_name) "
   ]
  },
  {
   "cell_type": "code",
   "execution_count": 98,
   "metadata": {
    "collapsed": true
   },
   "outputs": [],
   "source": [
    "# http://planspace.org/20151129-see_sklearn_trees_with_d3/\n",
    "\n",
    "def rules(clf, features, labels, node_index=0):\n",
    "    \"\"\"Structure of rules in a fit decision tree classifier\n",
    "\n",
    "    Parameters\n",
    "    ----------\n",
    "    clf : DecisionTreeClassifier\n",
    "        A tree that has already been fit.\n",
    "\n",
    "    features, labels : lists of str\n",
    "        The names of the features and labels, respectively.\n",
    "\n",
    "    \"\"\"\n",
    "    node = {}\n",
    "    if clf.tree_.children_left[node_index] == -1:  # indicates leaf\n",
    "        count_labels = zip(clf.tree_.value[node_index, 0], labels)\n",
    "        node['name'] = ', '.join(('{} of {}'.format(int(count), label)\n",
    "                                  for count, label in count_labels))\n",
    "    else:\n",
    "        feature = features[clf.tree_.feature[node_index]]\n",
    "        threshold = clf.tree_.threshold[node_index]\n",
    "        node['name'] = '{} > {}'.format(feature, threshold)\n",
    "        left_index = clf.tree_.children_left[node_index]\n",
    "        right_index = clf.tree_.children_right[node_index]\n",
    "        node['children'] = [rules(clf, features, labels, right_index),\n",
    "                            rules(clf, features, labels, left_index)]\n",
    "    return node"
   ]
  },
  {
   "cell_type": "code",
   "execution_count": 4,
   "metadata": {
    "collapsed": true
   },
   "outputs": [],
   "source": [
    "## Data manipulation\n",
    "# Load data\n",
    "raw_DF = pd.read_csv(\"data/raw_data.csv\", low_memory = False)\n",
    "\n",
    "# Getting year\n",
    "year = raw_DF[\"DATE\"].apply(lambda x: x.split('/'))\n",
    "raw_DF[\"YEAR\"] = year.apply(lambda x: int(x[2]))\n",
    "\n",
    "# Getting hour\n",
    "hour = raw_DF[\"TIME\"].apply(lambda x: x.split(':'))\n",
    "raw_DF[\"HOUR\"] = hour.apply(lambda x: int(x[0]))\n",
    "raw_DF[\"TIME_DEC\"] = hour.apply(lambda x: float(int(x[0]) + int(x[1])/60) )\n",
    "\n",
    "# Getting month\n",
    "month = raw_DF[\"DATE\"].apply(lambda x: x.split('/'))\n",
    "raw_DF[\"MONTH\"] = month.apply(lambda x: int(x[0]))\n",
    "\n",
    "# create bool variable KNN_bool = [0 or 1]. 0 if persons not are injured nor killed otherwise 1...\n",
    "raw_DF['KNN_bool'] = raw_DF[['NUMBER OF PERSONS INJURED',\n",
    "                             'NUMBER OF PERSONS KILLED']].apply(lambda x: 1 if (x['NUMBER OF PERSONS INJURED'] + \n",
    "                                                                                x['NUMBER OF PERSONS KILLED']) > 0 \n",
    "                                                                else 0, axis=1)\n",
    "\n",
    "# remove unused columns\n",
    "raw_DF = raw_DF.drop(['ZIP CODE',\n",
    "                          'LOCATION',\n",
    "                          'UNIQUE KEY',\n",
    "                          'ON STREET NAME',\n",
    "                          'CROSS STREET NAME',\n",
    "                          'OFF STREET NAME'], axis = 1)\n",
    "# raw_DF.head()\n",
    "# raw_DF.shape\n",
    "N = raw_DF.shape[0]"
   ]
  },
  {
   "cell_type": "code",
   "execution_count": 5,
   "metadata": {
    "collapsed": true
   },
   "outputs": [],
   "source": [
    "pra_info = {}\n",
    "# First day of observations\n",
    "pra_info['first obs'] = min(raw_DF[\"DATE\"])\n",
    "# Last day of observations\n",
    "pra_info['last obs'] = max(raw_DF[\"DATE\"])\n",
    "# \n",
    "# pra_info['unique year'] = list(set(raw_DF['YEAR']))\n",
    "pra_info['unique year'] = [2013,2014,2015,2016]\n",
    "#\n",
    "pra_info['N'] = {}\n",
    "tmp = []\n",
    "for ii in pra_info['unique year']:\n",
    "    pra_info['N'][ii] = len(raw_DF[raw_DF['YEAR'] == ii])\n",
    "    tmp.append(pra_info['N'][ii])\n",
    "# sum tot\n",
    "pra_info['N']['tot'] = sum(tmp)\n",
    "\n",
    "pra_info['unique borough'] = list(set(raw_DF['BOROUGH']))\n",
    "pra_info['borough'] = {}\n",
    "for ii in pra_info['unique borough']:\n",
    "    pra_info['borough'][ii] = {}\n",
    "    tmp = []\n",
    "    for jj in pra_info['unique year']:\n",
    "        pra_info['borough'][ii][jj] = len(raw_DF[(raw_DF['YEAR'] == jj) & (raw_DF['BOROUGH'] == ii)])\n",
    "        tmp.append(pra_info['borough'][ii][jj])   \n",
    "    # sum tot\n",
    "    pra_info['borough'][ii]['tot'] = sum(tmp)\n",
    "    \n",
    "# obs per month\n",
    "pra_info['unique months'] = list(set(raw_DF['MONTH']))\n",
    "pra_info['N month'] = {}\n",
    "for ii in pra_info['unique months']:\n",
    "    pra_info['N month'][ii] = {}\n",
    "    tmp = []\n",
    "    for jj in pra_info['unique year']:\n",
    "        pra_info['N month'][ii][jj] = len(raw_DF[(raw_DF['YEAR'] == jj) & (raw_DF['MONTH'] == ii)])\n",
    "        tmp.append(pra_info['N month'][ii][jj])\n",
    "        \n",
    "    # sum tot\n",
    "    pra_info['N month'][ii]['tot'] = sum(tmp)\n",
    "    \n",
    "# ratio\n",
    "pra_info['ratio'] = {}\n",
    "for ii in pra_info['unique borough']:\n",
    "    pra_info['ratio'][ii] = {}\n",
    "    for jj in pra_info['unique year']+['tot']:\n",
    "        pra_info['ratio'][ii][jj] = pra_info['borough'][ii][jj] / pra_info['N'][jj] \n",
    "        \n",
    "# ratio month\n",
    "pra_info['ratio month'] = {}\n",
    "for ii in pra_info['unique months']:\n",
    "    pra_info['ratio month'][ii] = {}\n",
    "    for jj in pra_info['unique year']:\n",
    "        pra_info['ratio month'][ii][jj] = pra_info['N month'][ii][jj] / pra_info['N'][jj]\n",
    "        \n",
    "# obs per day\n",
    "pra_info['unique days'] = list(set(raw_DF['DATE']))\n",
    "pra_info['No. days'] = {}\n",
    "for ii in pra_info['unique days']:\n",
    "    pra_info['No. days'][ii] = len(raw_DF[raw_DF['DATE'] == ii])\n",
    "    \n",
    "# avg\n",
    "# counting\n",
    "tmp = [int(pra_info['No. days'].keys()[ii].split('/')[2]) for ii in range(0, len(pra_info['No. days']))]\n",
    "tmp_days = collections.Counter(tmp)\n",
    "tmp_days['tot'] = len(pra_info['No. days'])\n",
    "\n",
    "pra_info['avg day'] = {}\n",
    "for ii in pra_info['unique year']+['tot']:\n",
    "        pra_info['avg day'][ii] =  pra_info['N'][ii] / tmp_days[ii]\n",
    "        \n",
    "pra_info['avg year'] = {}\n",
    "for ii in pra_info['unique year']:\n",
    "        pra_info['avg year'][ii] =  pra_info['N'][ii] / len(pra_info['unique year'])\n",
    "\n"
   ]
  },
  {
   "cell_type": "code",
   "execution_count": null,
   "metadata": {},
   "outputs": [],
   "source": [
    "# Pratical data information prints\n",
    "print \"First day of observations:\", min(raw_DF[\"DATE\"])\n",
    "print \"Last day of observations:\", max(raw_DF[\"DATE\"])\n",
    "print \"Total number of obs. in mentioned period:\" , len(raw_DF['DATE'])\n",
    "print \"\"\n",
    "print \"Observations per month:\"\n",
    "print pra_info['N month']\n",
    "print \"\"\n",
    "print \"Accidents per district:\"\n",
    "print pra_info['borough']\n",
    "print \"\"\n",
    "print \"Geographic area of each district:\"\n",
    "print \"To be done.... \"\n",
    "print \"\"\n",
    "print \"Ratio between geographic area per district and number of accidents\"\n",
    "print pra_info['ratio']\n",
    "print \"\"\n",
    "print \"Ratio between accidents and months\"\n",
    "print pra_info['ratio month']\n",
    "print \"\"\n",
    "print \"Types of accidents\"\n",
    "print \"To be done.... \"\n",
    "print \"\"\n",
    "print \"Average accidents per year:\"\n",
    "print pra_info['avg year']\n",
    "print \"\"\n",
    "print \"Average accidents per day:\"\n",
    "print pra_info['avg day'] #pra_info['N']['tot'] / len(pra_info['No. days'])\n",
    "print \"\"\n",
    "print \"Day with most accidents\"\n",
    "print sorted(pra_info['No. days'].items(), key=lambda x: x[1], reverse=True)[0]\n",
    "print \"\"\n",
    "print \"Day with least accidents\"\n",
    "print sorted(pra_info['No. days'].items(), key=lambda x: x[1], reverse=False)[0]\n",
    "print \"\"\n",
    "print \"Top 10 days with most accidents:\" \n",
    "print sorted(pra_info['No. days'].items(), key=lambda x: x[1], reverse=True)[0:10]\n",
    "print \"\"\n",
    "print \"Top 10 days with least accidents:\" \n",
    "print sorted(pra_info['No. days'].items(), key=lambda x: x[1], reverse=False)[0:10]\n",
    "\n"
   ]
  },
  {
   "cell_type": "markdown",
   "metadata": {},
   "source": [
    "## 3. Theory. Which theoretical tools did you use?\n",
    "- Describe which machine learning tools you use and why the tools you've chosen are right for the problem you're solving.\n",
    "- Talk about your model selection. How did you split the data in to test/training. Did you use cross validation?\n",
    "- Explain the model performance. How did you measure it? Are your results what you expected?"
   ]
  },
  {
   "cell_type": "code",
   "execution_count": null,
   "metadata": {
    "collapsed": true
   },
   "outputs": [],
   "source": []
  },
  {
   "cell_type": "code",
   "execution_count": null,
   "metadata": {
    "collapsed": true
   },
   "outputs": [],
   "source": []
  },
  {
   "cell_type": "markdown",
   "metadata": {},
   "source": [
    "## 4. Visualizations\n",
    "- Explain the visualizations you've chosen.\n",
    "- Why are they right for the story you want to tell?"
   ]
  },
  {
   "cell_type": "markdown",
   "metadata": {},
   "source": [
    "### Intro plot"
   ]
  },
  {
   "cell_type": "code",
   "execution_count": null,
   "metadata": {
    "collapsed": true
   },
   "outputs": [],
   "source": [
    "# Heat Map\n",
    "# Manually insetting API key and the accidents coordinates\n",
    "## gmap = gmplot.GoogleMapPlotter(np.mean(raw_DF[\"LATITUDE\"]), np.mean(raw_DF[\"LONGITUDE\"]), 10.5)\n",
    "## gmap.heatmap(list(raw_DF[\"LATITUDE\"]), list(raw_DF[\"LONGITUDE\"]), threshold=5, radius=5)\n",
    "## gmap.draw(\"data/heatmap.html\")\n",
    "\n",
    "# decrease obs \n",
    "idx = (raw_DF.sample(frac=0.5).index)\n",
    "\n",
    "# dict with coordinates\n",
    "coor = {}\n",
    "coor['lon'] = list(raw_DF[\"LONGITUDE\"].iloc[idx])\n",
    "coor['lat'] = list(raw_DF[\"LATITUDE\"].iloc[idx])\n",
    "coor['N'] = len(idx)\n",
    "# write to file for later copy paste.\n",
    "f = open('data/heatmap.txt', 'w')\n",
    "[f.write('new google.maps.LatLng({0},{1}),\\n'.format(coor['lat'][ii],coor['lon'][ii])) for ii in range(coor['N'])]\n",
    "f.close() "
   ]
  },
  {
   "cell_type": "markdown",
   "metadata": {},
   "source": [
    "### Bar plot"
   ]
  },
  {
   "cell_type": "code",
   "execution_count": null,
   "metadata": {
    "collapsed": true
   },
   "outputs": [],
   "source": [
    "# Time frame\n",
    "tmp_x_key = [\"00:00-00:59\",\"01:00-01:59\",\"02:00-02:59\",\"03:00-03:59\",\"04:00-04:59\",\"05:00-05:59\",\n",
    "             \"06:00-06:59\",\"07:00-07:59\",\"08:00-08:59\",\"09:00-09:59\",\"10:00-10:59\",\"11:00-11:59\",\n",
    "             \"12:00-12:59\",\"13:00-13:59\",\"14:00-14:59\",\"15:00-15:59\",\"16:00-16:59\",\"17:00-17:59\",\n",
    "             \"18:00-18:59\",\"19:00-19:59\",\"20:00-20:59\",\"21:00-21:59\",\"22:00-22:59\",\"23:00-23:59\"]\n",
    "\n",
    "# init lists\n",
    "bar_dict_NYC = []\n",
    "bar_dict_BRONX = []\n",
    "bar_dict_BROOKLYN = []\n",
    "bar_dict_STATEN_ISLAND = []\n",
    "bar_dict_MANHATTAN = []\n",
    "bar_dict_QUEENS = []\n",
    "# injured\n",
    "bar_dict_NYC_inj = []\n",
    "bar_dict_BRONX_inj = []\n",
    "bar_dict_BROOKLYN_inj = []\n",
    "bar_dict_STATEN_ISLAND_inj = []\n",
    "bar_dict_MANHATTAN_inj = []\n",
    "bar_dict_QUEENS_inj = []\n",
    "# killed\n",
    "bar_dict_NYC_kill = []\n",
    "bar_dict_BRONX_kill = []\n",
    "bar_dict_BROOKLYN_kill = []\n",
    "bar_dict_STATEN_ISLAND_kill = []\n",
    "bar_dict_MANHATTAN_kill = []\n",
    "bar_dict_QUEENS_kill = []\n",
    "\n",
    "# loop through each time frame\n",
    "for ii in range(0,24):\n",
    "    #print ii\n",
    "    tmp_borough = {}\n",
    "    tmp_borough_inj = {}\n",
    "    tmp_borough_kill = {}\n",
    "    for jj in pra_info['unique borough']:\n",
    "        #print 's'\n",
    "        tmp_borough[jj] = len(raw_DF[(raw_DF['BOROUGH'] == jj) & \n",
    "                                     (raw_DF['HOUR'] == ii)])\n",
    "        tmp_borough_inj[jj] = len(raw_DF[(raw_DF['BOROUGH'] == jj) & \n",
    "                                     (raw_DF['HOUR'] == ii) & \n",
    "                                     (raw_DF['NUMBER OF PERSONS INJURED'] > 0)])\n",
    "        tmp_borough_kill[jj] = len(raw_DF[(raw_DF['BOROUGH'] == jj) & \n",
    "                                     (raw_DF['HOUR'] == ii) & \n",
    "                                     (raw_DF['NUMBER OF PERSONS KILLED'] > 0)])\n",
    "        \n",
    "    # sum all for given time slot\n",
    "    tmp_sum = np.sum(tmp_borough.values())\n",
    "    tmp_sum_inj = np.sum(tmp_borough_inj.values())\n",
    "    tmp_sum_kill = np.sum(tmp_borough_kill.values())\n",
    "    \n",
    "    # append time slot to list\n",
    "    bar_dict_NYC.append({'key': tmp_x_key[ii], 'value': tmp_sum})\n",
    "    bar_dict_BRONX.append({'key': tmp_x_key[ii], 'value': tmp_borough['BRONX']})\n",
    "    bar_dict_BROOKLYN.append({'key': tmp_x_key[ii], 'value': tmp_borough['BROOKLYN']})\n",
    "    bar_dict_STATEN_ISLAND.append({'key': tmp_x_key[ii], 'value': tmp_borough['STATEN ISLAND']})\n",
    "    bar_dict_MANHATTAN.append({'key': tmp_x_key[ii], 'value': tmp_borough['MANHATTAN']})\n",
    "    bar_dict_QUEENS.append({'key': tmp_x_key[ii], 'value': tmp_borough['QUEENS']})\n",
    "    \n",
    "    # only injured\n",
    "    bar_dict_NYC_inj.append({'key': tmp_x_key[ii], 'value': tmp_sum_inj})\n",
    "    bar_dict_BRONX_inj.append({'key': tmp_x_key[ii], 'value': tmp_borough_inj['BRONX']})\n",
    "    bar_dict_BROOKLYN_inj.append({'key': tmp_x_key[ii], 'value': tmp_borough_inj['BROOKLYN']})\n",
    "    bar_dict_STATEN_ISLAND_inj.append({'key': tmp_x_key[ii], 'value': tmp_borough_inj['STATEN ISLAND']})\n",
    "    bar_dict_MANHATTAN_inj.append({'key': tmp_x_key[ii], 'value': tmp_borough_inj['MANHATTAN']})\n",
    "    bar_dict_QUEENS_inj.append({'key': tmp_x_key[ii], 'value': tmp_borough_inj['QUEENS']})\n",
    "    \n",
    "    # killed\n",
    "    bar_dict_NYC_kill.append({'key': tmp_x_key[ii], 'value': tmp_sum_kill})\n",
    "    bar_dict_BRONX_kill.append({'key': tmp_x_key[ii], 'value': tmp_borough_kill['BRONX']})\n",
    "    bar_dict_BROOKLYN_kill.append({'key': tmp_x_key[ii], 'value': tmp_borough_kill['BROOKLYN']})\n",
    "    bar_dict_STATEN_ISLAND_kill.append({'key': tmp_x_key[ii], 'value': tmp_borough_kill['STATEN ISLAND']})\n",
    "    bar_dict_MANHATTAN_kill.append({'key': tmp_x_key[ii], 'value': tmp_borough_kill['MANHATTAN']})\n",
    "    bar_dict_QUEENS_kill.append({'key': tmp_x_key[ii], 'value': tmp_borough_kill['QUEENS']})\n",
    "    \n",
    "# create bar jsons \n",
    "createJSON(bar_dict_NYC, 'data/bar/bar_dict_NYC.json')\n",
    "createJSON(bar_dict_BRONX, 'data/bar/bar_dict_BRONX.json')\n",
    "createJSON(bar_dict_BROOKLYN, 'data/bar/bar_dict_BROOKLYN.json')\n",
    "createJSON(bar_dict_STATEN_ISLAND, 'data/bar/bar_dict_STATEN_ISLAND.json')\n",
    "createJSON(bar_dict_MANHATTAN, 'data/bar/bar_dict_MANHATTAN.json')\n",
    "createJSON(bar_dict_QUEENS, 'data/bar/bar_dict_QUEENS.json')\n",
    "\n",
    "createJSON(bar_dict_NYC_inj, 'data/bar/bar_dict_NYC_inj.json')\n",
    "createJSON(bar_dict_BRONX_inj, 'data/bar/bar_dict_BRONX_inj.json')\n",
    "createJSON(bar_dict_BROOKLYN_inj, 'data/bar/bar_dict_BROOKLYN_inj.json')\n",
    "createJSON(bar_dict_STATEN_ISLAND_inj, 'data/bar/bar_dict_STATEN_ISLAND_inj.json')\n",
    "createJSON(bar_dict_MANHATTAN_inj, 'data/bar/bar_dict_MANHATTAN_inj.json')\n",
    "createJSON(bar_dict_QUEENS_inj, 'data/bar/bar_dict_QUEENS_inj.json')\n",
    "\n",
    "createJSON(bar_dict_NYC_kill, 'data/bar/bar_dict_NYC_kill.json')\n",
    "createJSON(bar_dict_BRONX_kill, 'data/bar/bar_dict_BRONX_kill.json')\n",
    "createJSON(bar_dict_BROOKLYN_kill, 'data/bar/bar_dict_BROOKLYN_kill.json')\n",
    "createJSON(bar_dict_STATEN_ISLAND_kill, 'data/bar/bar_dict_STATEN_ISLAND_kill.json')\n",
    "createJSON(bar_dict_MANHATTAN_kill, 'data/bar/bar_dict_MANHATTAN_kill.json')\n",
    "createJSON(bar_dict_QUEENS_kill, 'data/bar/bar_dict_QUEENS_kill.json')"
   ]
  },
  {
   "cell_type": "markdown",
   "metadata": {},
   "source": [
    "### Time Series"
   ]
  },
  {
   "cell_type": "code",
   "execution_count": null,
   "metadata": {},
   "outputs": [],
   "source": [
    "# Time Series\n",
    "ts_json_ped = []; ts_json_cyc = []; ts_json_mot = [];\n",
    "ts_json_NYC = []\n",
    "\n",
    "# loop for each day\n",
    "for dd in pra_info['unique days']:\n",
    "    # init temp dict\n",
    "    tmp_ped = {}\n",
    "    tmp_cyc = {}\n",
    "    tmp_mot = {}\n",
    "    \n",
    "    # init dict level for NYC\n",
    "    tmp_ped['NYC'] = {}; tmp_cyc['NYC'] = {}; tmp_mot['NYC'] = {}\n",
    "\n",
    "    # Setting date\n",
    "    tmp_ped['NYC']['date'] = dd; tmp_cyc['NYC']['date'] = dd; tmp_mot['NYC']['date'] = dd\n",
    "    \n",
    "    # init inital value to later sum\n",
    "    tmp_ped['NYC']['inj'] = 0; tmp_cyc['NYC']['inj'] = 0; tmp_mot['NYC']['inj'] = 0\n",
    "    tmp_ped['NYC']['kill'] = 0; tmp_cyc['NYC']['kill'] = 0; tmp_mot['NYC']['kill'] = 0\n",
    "    tmp_ped['NYC']['tot'] = 0; tmp_cyc['NYC']['tot'] = 0; tmp_mot['NYC']['tot'] = 0\n",
    "    # loop for each borough\n",
    "    for bb in pra_info['unique borough']:\n",
    "        # init dict\n",
    "        tmp_ped[bb] = {}\n",
    "        tmp_cyc[bb] = {}\n",
    "        tmp_mot[bb] = {}\n",
    "        # add date\n",
    "        tmp_ped[bb]['date'] = dd\n",
    "        tmp_cyc[bb]['date'] = dd\n",
    "        tmp_mot[bb]['date'] = dd\n",
    "        # find indices for unique day and unique borough\n",
    "        tmp_idx = list(raw_DF[(raw_DF['DATE'] == dd) & (raw_DF['BOROUGH'] == bb)].index)\n",
    "        #\n",
    "        tmp_ped[bb]['inj'] = np.sum(raw_DF['NUMBER OF PEDESTRIANS INJURED'].iloc[tmp_idx])# / len(tmp_idx) * 100\n",
    "        tmp_ped[bb]['kill'] = np.sum(raw_DF['NUMBER OF PEDESTRIANS KILLED'].iloc[tmp_idx])# / len(tmp_idx) * 100\n",
    "        tmp_ped[bb]['tot'] = (tmp_ped[bb]['inj'] + tmp_ped[bb]['kill'])\n",
    "        \n",
    "        tmp_cyc[bb]['inj'] = np.sum(raw_DF['NUMBER OF CYCLIST INJURED'].iloc[tmp_idx])# / len(tmp_idx) * 100\n",
    "        tmp_cyc[bb]['kill'] = np.sum(raw_DF['NUMBER OF CYCLIST KILLED'].iloc[tmp_idx])# / len(tmp_idx) * 100\n",
    "        tmp_cyc[bb]['tot'] = (tmp_cyc[bb]['inj'] + tmp_cyc[bb]['kill'])\n",
    "        \n",
    "        tmp_mot[bb]['inj'] = np.sum(raw_DF['NUMBER OF MOTORIST INJURED'].iloc[tmp_idx])# / len(tmp_idx) * 100\n",
    "        tmp_mot[bb]['kill'] = np.sum(raw_DF['NUMBER OF MOTORIST KILLED'].iloc[tmp_idx])# / len(tmp_idx) * 100\n",
    "        tmp_mot[bb]['tot'] = (tmp_mot[bb]['inj'] + tmp_mot[bb]['kill'])\n",
    "        \n",
    "        # summing to NYC\n",
    "        tmp_ped['NYC']['inj'] += tmp_ped[bb]['inj']\n",
    "        tmp_ped['NYC']['kill'] += tmp_ped[bb]['kill']\n",
    "        tmp_ped['NYC']['tot'] += tmp_ped[bb]['tot']\n",
    "        \n",
    "        tmp_cyc['NYC']['inj'] += tmp_cyc[bb]['inj']\n",
    "        tmp_cyc['NYC']['kill'] += tmp_cyc[bb]['kill']\n",
    "        tmp_cyc['NYC']['tot'] += tmp_cyc[bb]['tot']\n",
    "        \n",
    "        tmp_mot['NYC']['inj'] += tmp_mot[bb]['inj']\n",
    "        tmp_mot['NYC']['kill'] += tmp_mot[bb]['kill']\n",
    "        tmp_mot['NYC']['tot'] += tmp_mot[bb]['tot']\n",
    "        \n",
    "    # append day and info to the json list\n",
    "    ts_json_ped.append(tmp_ped)\n",
    "    ts_json_cyc.append(tmp_cyc)\n",
    "    ts_json_mot.append(tmp_mot)\n",
    "\n",
    "# create jsons\n",
    "for bb in pra_info['unique borough'] + ['NYC']:\n",
    "    # tot\n",
    "    ##tmp = [ts_json_tot[ii][bb] for ii in range(0,len(ts_json_tot))]\n",
    "    ##tmp.sort(key=lambda x: dt.datetime.strptime(x['date'], '%m/%d/%Y'))\n",
    "    ##createJSON(tmp,'data/ts/ts_tot_' + bb + '.json')\n",
    "    # ped\n",
    "    tmp = [ts_json_ped[ii][bb] for ii in range(len(ts_json_ped))]\n",
    "    tmp.sort(key=lambda x: dt.datetime.strptime(x['date'], '%m/%d/%Y'))\n",
    "    createJSON(tmp,'data/ts/ts_ped_' + bb + '.json')\n",
    "    # cyc\n",
    "    tmp = [ts_json_cyc[ii][bb] for ii in range(len(ts_json_cyc))]\n",
    "    tmp.sort(key=lambda x: dt.datetime.strptime(x['date'], '%m/%d/%Y'))\n",
    "    createJSON(tmp,'data/ts/ts_cyc_' + bb + '.json')\n",
    "    # mot\n",
    "    tmp = [ts_json_mot[ii][bb] for ii in range(len(ts_json_mot))]\n",
    "    tmp.sort(key=lambda x: dt.datetime.strptime(x['date'], '%m/%d/%Y'))\n",
    "    createJSON(tmp,'data/ts/ts_mot_' + bb + '.json')"
   ]
  },
  {
   "cell_type": "markdown",
   "metadata": {},
   "source": [
    "### KNN"
   ]
  },
  {
   "cell_type": "code",
   "execution_count": null,
   "metadata": {},
   "outputs": [],
   "source": [
    "# Create dict for prediction tool\n",
    "knn_dict = {}\n",
    "knn_dict['lat'] = list(raw_DF['LATITUDE'])\n",
    "knn_dict['lat_min_max'] = [np.min(knn_dict['lat']), np.max(knn_dict['lat'])]\n",
    "knn_dict['lon'] = list(raw_DF['LONGITUDE'])\n",
    "knn_dict['lon_min_max'] = [np.min(knn_dict['lon']), np.max(knn_dict['lon'])]\n",
    "knn_dict['time'] = list(raw_DF['TIME_DEC'])\n",
    "knn_dict['month'] = list(raw_DF['MONTH'])\n",
    "\n",
    "knn_dict['class'] = list(raw_DF['KNN_bool'])\n",
    "knn_dict['N'] = len(knn_dict['class'])\n",
    "\n",
    "# For prediction \n",
    "knn_dict['X'] = np.array([[knn_dict['lat'][ii], knn_dict['lon'][ii], knn_dict['time'][ii], knn_dict['month'][ii]] for ii in range(0,knn_dict['N'])])\n",
    "knn_dict['y'] = np.array([knn_dict['class'][ii] for ii in range(0,knn_dict['N'])])\n",
    "\n",
    "# create knn_json for D3\n",
    "knn_json = [{'lat': knn_dict['lat'][ii],\n",
    "             'lon': knn_dict['lon'][ii],\n",
    "             'class': knn_dict['class'][ii]} for ii in range(0,len(knn_dict['class']))]\n",
    "\n",
    "createJSON(knn_json, 'data/knn_json.json') \n",
    "\n",
    "# \n",
    "tmp = collections.Counter(knn_dict['class'])\n",
    "print 'Non fatal:                           {0:.3f}%'.format(tmp.values()[0] / np.sum(tmp.values()) * 100)\n",
    "print 'Fatal (injured / killed) accidents:  {0:.3f}%'.format(tmp.values()[1] / np.sum(tmp.values()) * 100)"
   ]
  },
  {
   "cell_type": "code",
   "execution_count": null,
   "metadata": {},
   "outputs": [],
   "source": [
    "# Estimate model parameters using cross validation\n",
    "\n",
    "# Maximum number of neighbors\n",
    "K = 50\n",
    "N = knn_dict['N']\n",
    "# K-fold crossvalidation\n",
    "K_fold = 10\n",
    "CV = cross_validation.KFold(N, K_fold, shuffle = False)\n",
    "#CV = cross_validation.LeaveOneOut(N)\n",
    "\n",
    "errors = np.zeros((N, K))\n",
    "i = 0\n",
    "for train_index, test_index in CV:\n",
    "    print 'Crossvalidation fold: {0}/{1}'.format(i + 1, CV.n_folds)\n",
    "    \n",
    "    # extract training and test set for current CV fold\n",
    "    X_train = knn_dict['X'][train_index,:]\n",
    "    y_train = knn_dict['y'][train_index]\n",
    "    X_test = knn_dict['X'][test_index,:]\n",
    "    y_test = knn_dict['y'][test_index]\n",
    "\n",
    "    # Fit classifier and classify the test points (consider 1 to 40 neighbors)\n",
    "    for k in range(1, K + 1):\n",
    "        knclassifier = KNeighborsClassifier(n_neighbors = k);\n",
    "        knclassifier.fit(X_train, y_train);\n",
    "        y_est = knclassifier.predict(X_test);\n",
    "        errors[i, k - 1] = np.sum(y_est != y_test)\n",
    "    # \n",
    "    i +=1\n",
    "    \n",
    "# Plot the classification error rate\n",
    "plt.plot(range(1,errors.shape[1] + 1), (100 * np.sum(errors,0) / N).tolist())\n",
    "plt.xlabel('Number of neighbors')\n",
    "plt.ylabel('Classification error rate (%)')\n",
    "plt.show()"
   ]
  },
  {
   "cell_type": "markdown",
   "metadata": {},
   "source": [
    "Comments on plot..."
   ]
  },
  {
   "cell_type": "code",
   "execution_count": null,
   "metadata": {},
   "outputs": [],
   "source": [
    "# Fitting KKN for the complate observations\n",
    "knn_dict['k_opt'] = np.argmin(np.sum(errors,0)) + 1\n",
    "knn_dict['knn_opt_fit'] = KNeighborsClassifier(n_neighbors = knn_dict['k_opt']);\n",
    "\n",
    "knn_dict['knn_opt_fit'].fit(knn_dict['X'], knn_dict['y']);\n",
    "lat_min, lat_max = knn_dict['lat_min_max']\n",
    "lon_min, lon_max = knn_dict['lon_min_max']\n",
    "\n",
    "# Plot the decision boundary. For that, we will asign a color to each\n",
    "# create prediction grid\n",
    "# meshgrid size\n",
    "# h = 0.0001\n",
    "# h = 0.001\n",
    "# xx, yy = np.arange(lat_min, lat_max, h), np.arange(lon_min, lon_max, h)\n",
    "# pre = [[xx[ii], yy[jj]] for ii in range(0,len(xx)) for jj in range(0,len(yy))]\n",
    "\n",
    "\n",
    "# use complete data to classify based upon cross validated \n",
    "pre = knn_dict['X'].tolist()\n",
    "# prediction\n",
    "Z = knn_dict['knn_opt_fit'].predict(pre)\n",
    "\n",
    "# \n",
    "pre_knn_dict = {}\n",
    "pre_knn_dict['lat'] = [pre[ii][0] for ii in range(len(Z))]\n",
    "pre_knn_dict['lon'] = [pre[ii][1] for ii in range(len(Z))]\n",
    "pre_knn_dict['time'] = [pre[ii][2] for ii in range(len(Z))]\n",
    "pre_knn_dict['month'] = [pre[ii][3] for ii in range(len(Z))]\n",
    "pre_knn_dict['class'] = [Z[ii] for ii in range(len(Z))]\n",
    "\n",
    "# json\n",
    "def r_col(x):\n",
    "    if x == 1: tmp_col = 'rgba(255,0,0, 0.25)'\n",
    "    else: tmp_col = 'rgba(0,255,0, 0.25)'\n",
    "    return tmp_col\n",
    "\n",
    "knn_opt_json = [{'lat': pre_knn_dict['lat'][ii],\n",
    "                 'lon': pre_knn_dict['lon'][ii],\n",
    "                 'class': pre_knn_dict['class'][ii]} for ii in range(0,len(pre_knn_dict['class']))]\n",
    "#\n",
    "createJSON(knn_opt_json, 'data/knn_opt_json.json') \n",
    "\n",
    "#\n",
    "tmp = collections.Counter(pre_knn_dict['class'])\n",
    "print 'Non fatal:                           {0:.3f}%'.format(tmp.values()[0] / np.sum(tmp.values()) * 100)\n",
    "print 'Fatal (injured / killed) accidents:  {0:.3f}%'.format(tmp.values()[1] / np.sum(tmp.values()) * 100)"
   ]
  },
  {
   "cell_type": "markdown",
   "metadata": {},
   "source": [
    "Comments on unblanced data.. how it affects predictions"
   ]
  },
  {
   "cell_type": "markdown",
   "metadata": {},
   "source": [
    "### Decision Tree"
   ]
  },
  {
   "cell_type": "code",
   "execution_count": 117,
   "metadata": {},
   "outputs": [
    {
     "data": {
      "text/plain": [
       "(601313, 28)"
      ]
     },
     "execution_count": 117,
     "metadata": {},
     "output_type": "execute_result"
    }
   ],
   "source": [
    "tmp_raw = raw_DF\n",
    "\n",
    "tmp_raw.shape"
   ]
  },
  {
   "cell_type": "code",
   "execution_count": null,
   "metadata": {
    "collapsed": true
   },
   "outputs": [],
   "source": []
  },
  {
   "cell_type": "code",
   "execution_count": 123,
   "metadata": {
    "collapsed": true
   },
   "outputs": [],
   "source": [
    "# exercise 6.1.2\n",
    "\n",
    "from sklearn import tree\n",
    "dtree_dict = {}\n",
    "uni_borough = list(set(tmp_raw['BOROUGH']))\n",
    "dtree_dict['borough'] = [uni_borough.index(tmp_raw['BOROUGH'][ii]) for ii in range(tmp_raw.shape[0])]\n",
    "\n",
    "dtree_dict['lat'] = list(tmp_raw['LATITUDE'])\n",
    "dtree_dict['lon'] = list(tmp_raw['LONGITUDE'])\n",
    "\n",
    "dtree_dict['time'] = list(tmp_raw['TIME_DEC'])\n",
    "dtree_dict['month'] = list(tmp_raw['MONTH'])\n",
    "\n",
    "dtree_dict['class'] = list(tmp_raw['KNN_bool'])\n",
    "dtree_dict['N'] = len(dtree_dict['class'])\n",
    "\n",
    "# For prediction \n",
    "#feature_names = ['borough', 'lat','lon','time','month']\n",
    "feature_names = ['borough','time','month']\n",
    "dtree_dict['X'] = np.array([[dtree_dict['borough'][ii],\n",
    "                             #dtree_dict['lat'][ii], \n",
    "                             #dtree_dict['lon'][ii], \n",
    "                             dtree_dict['time'][ii], \n",
    "                             dtree_dict['month'][ii]] for ii in range(dtree_dict['N'])])\n",
    "\n",
    "\n",
    "target_names = ['Non Fatal','Fatal']\n",
    "dtree_dict['y'] = np.array([dtree_dict['class'][ii] for ii in range(dtree_dict['N'])])"
   ]
  },
  {
   "cell_type": "code",
   "execution_count": 124,
   "metadata": {},
   "outputs": [
    {
     "name": "stdout",
     "output_type": "stream",
     "text": [
      "Crossvalidation fold: 1/10\n",
      "Crossvalidation fold: 2/10\n",
      "Crossvalidation fold: 3/10\n",
      "Crossvalidation fold: 4/10\n",
      "Crossvalidation fold: 5/10\n",
      "Crossvalidation fold: 6/10\n",
      "Crossvalidation fold: 7/10\n",
      "Crossvalidation fold: 8/10\n",
      "Crossvalidation fold: 9/10\n",
      "Crossvalidation fold: 10/10\n"
     ]
    },
    {
     "data": {
      "image/png": "[encoded data removed]",
      "text/plain": [
       "<matplotlib.figure.Figure at 0x14cb9b990>"
      ]
     },
     "metadata": {},
     "output_type": "display_data"
    }
   ],
   "source": [
    "# Estimate model parameters using cross validation\n",
    "\n",
    "# Tree complexity parameter - constraint on maximum depth\n",
    "tc = np.arange(2, 35, 0.5)\n",
    "\n",
    "\n",
    "# K-fold crossvalidation\n",
    "K_fold = 10\n",
    "CV = cross_validation.KFold(dtree_dict['N'], K_fold, shuffle = False)\n",
    "\n",
    "Error_train = np.empty((len(tc),K_fold))\n",
    "Error_test = np.empty((len(tc),K_fold))\n",
    "\n",
    "k = 0\n",
    "for train_index, test_index in CV:\n",
    "    print 'Crossvalidation fold: {0}/{1}'.format(k + 1, K_fold)\n",
    "    \n",
    "    # extract training and test set for current CV fold\n",
    "    X_train = dtree_dict['X'][train_index,:]\n",
    "    y_train = dtree_dict['y'][train_index]\n",
    "    X_test = dtree_dict['X'][test_index,:]\n",
    "    y_test = dtree_dict['y'][test_index]\n",
    "\n",
    "    for i, t in enumerate(tc):\n",
    "        # Fit decision tree classifier, Gini split criterion, different pruning levels (t)\n",
    "        dtc = tree.DecisionTreeClassifier(criterion='gini', max_depth = t)\n",
    "        dtc = dtc.fit(X_train, y_train)\n",
    "\n",
    "        y_est_test = dtc.predict(X_test)\n",
    "        y_est_train = dtc.predict(X_train)\n",
    "        \n",
    "        # Evaluate misclassification rate over train/test data (in this CV fold)\n",
    "        Error_test[i, k] = np.sum(y_est_test != y_test) / len(y_test)\n",
    "        Error_train[i, k] = np.sum(y_est_train != y_train) / len(y_train)\n",
    "    \n",
    "    k+=1\n",
    "    \n",
    "from pylab import *\n",
    "# Plot the classification error rate\n",
    "#f = figure(); f.hold(True)\n",
    "#boxplot(Error_test.T)\n",
    "#xlabel('Model complexity (max tree depth)')\n",
    "#ylabel('Test error across CV folds, K={0})'.format(K_fold))\n",
    "\n",
    "f = figure(); f.hold(True)\n",
    "#plot(tc, Error_train.mean(1))\n",
    "plot(tc, Error_test.mean(1))\n",
    "xlabel('Model complexity (max tree depth)')\n",
    "ylabel('Error (misclassification rate, CV K={0})'.format(K_fold))\n",
    "#legend(['Error_train','Error_test'])\n",
    "legend(['Error_test'])\n",
    "    \n",
    "show()\n"
   ]
  },
  {
   "cell_type": "code",
   "execution_count": 120,
   "metadata": {},
   "outputs": [],
   "source": [
    "\n",
    "\n",
    "t = [2,3,4,5]\n",
    "for tt in t:\n",
    "    dtc = tree.DecisionTreeClassifier(criterion='gini', max_depth = tt)\n",
    "    dtc = dtc.fit(dtree_dict['X'], dtree_dict['y'])\n",
    "    dtree_json = rules(dtc, feature_names, target_names)\n",
    "    createJSON(dtree_json, 'data/dtree/dtree_json_' + str(tt) + '.json')\n"
   ]
  },
  {
   "cell_type": "code",
   "execution_count": 121,
   "metadata": {},
   "outputs": [
    {
     "data": {
      "text/plain": [
       "'borough > 1.5'"
      ]
     },
     "execution_count": 121,
     "metadata": {},
     "output_type": "execute_result"
    }
   ],
   "source": [
    "#name: \"container thing\",\n",
    "dtree_json['name']"
   ]
  },
  {
   "cell_type": "code",
   "execution_count": 122,
   "metadata": {},
   "outputs": [
    {
     "data": {
      "text/plain": [
       "2.3219280948873622"
      ]
     },
     "execution_count": 122,
     "metadata": {},
     "output_type": "execute_result"
    }
   ],
   "source": []
  },
  {
   "cell_type": "code",
   "execution_count": 100,
   "metadata": {},
   "outputs": [
    {
     "data": {
      "text/plain": [
       "{'children': [{'children': [{'children': [{'name': '0 of setosa, 0 of versicolor, 43 of virginica'},\n",
       "      {'name': '0 of setosa, 1 of versicolor, 2 of virginica'}],\n",
       "     'name': 'petal length (cm) > 4.85000038147'},\n",
       "    {'children': [{'name': '0 of setosa, 2 of versicolor, 4 of virginica'},\n",
       "      {'name': '0 of setosa, 47 of versicolor, 1 of virginica'}],\n",
       "     'name': 'petal length (cm) > 4.94999980927'}],\n",
       "   'name': 'petal width (cm) > 1.75'},\n",
       "  {'name': '50 of setosa, 0 of versicolor, 0 of virginica'}],\n",
       " 'name': 'petal length (cm) > 2.45000004768'}"
      ]
     },
     "execution_count": 100,
     "metadata": {},
     "output_type": "execute_result"
    }
   ],
   "source": [
    "from sklearn.datasets import load_iris\n",
    "from sklearn.tree import DecisionTreeClassifier\n",
    "\n",
    "data = load_iris()\n",
    "\n",
    "clf = DecisionTreeClassifier(max_depth=3)\n",
    "clf.fit(data.data, data.target)\n",
    "\n",
    "rules(clf, data.feature_names, data.target_names)"
   ]
  },
  {
   "cell_type": "markdown",
   "metadata": {},
   "source": [
    "### Weather correlation"
   ]
  },
  {
   "cell_type": "code",
   "execution_count": null,
   "metadata": {},
   "outputs": [],
   "source": [
    "raw_weather_DF = pd.read_csv(\"data/raw_data_weather.csv\", low_memory = False)\n",
    "\n",
    "print raw_weather_DF.shape\n",
    "\n",
    "#raw_weather_DF = raw_weather_DF([['DATE', 'PRCP', 'TMIN', 'TMAX', 'TOBS']]\n",
    "list(raw_weather_DF)\n",
    "\n",
    "\n",
    "\n",
    "#raw_weather_DF = raw_weather_DF[raw_weather_DF['MDPR'] == -9999.0]\n",
    "\n",
    "print raw_weather_DF.shape"
   ]
  },
  {
   "cell_type": "code",
   "execution_count": null,
   "metadata": {},
   "outputs": [],
   "source": [
    "list(raw_weather_DF)"
   ]
  },
  {
   "cell_type": "code",
   "execution_count": null,
   "metadata": {},
   "outputs": [],
   "source": [
    "# Getting year\n",
    "date = raw_weather_DF[\"DATE\"].apply(lambda x: [str(x)[4:6],str(x)[6:8],str(x)[:4]])\n",
    "raw_weather_DF[\"YEAR\"] = year.apply(lambda x: int(x[2]))\n",
    "\n",
    "# Getting hour\n",
    "##hour = raw_DF[\"TIME\"].apply(lambda x: x.split(':'))\n",
    "##raw_DF[\"HOUR\"] = hour.apply(lambda x: int(x[0]))\n",
    "##raw_DF[\"TIME_DEC\"] = hour.apply(lambda x: float(int(x[0]) + int(x[1])/60) )\n",
    "\n",
    "# Getting month\n",
    "##month = raw_DF[\"DATE\"].apply(lambda x: x.split('/'))\n",
    "##raw_DF[\"MONTH\"] = month.apply(lambda x: int(x[0]))"
   ]
  },
  {
   "cell_type": "code",
   "execution_count": null,
   "metadata": {},
   "outputs": [],
   "source": []
  },
  {
   "cell_type": "code",
   "execution_count": null,
   "metadata": {},
   "outputs": [],
   "source": []
  },
  {
   "cell_type": "code",
   "execution_count": null,
   "metadata": {},
   "outputs": [],
   "source": [
    "tmp = 'WESF'\n",
    "raw_weather_DF[['DATE',tmp]].head()"
   ]
  },
  {
   "cell_type": "code",
   "execution_count": null,
   "metadata": {},
   "outputs": [],
   "source": [
    "\n",
    "#print set(raw_weather_DF[tmp])\n",
    "print collections.Counter(raw_weather_DF[tmp])"
   ]
  },
  {
   "cell_type": "code",
   "execution_count": null,
   "metadata": {},
   "outputs": [],
   "source": [
    "First day of observations: 01/01/2013\n",
    "Last day of observations: 12/31/2016"
   ]
  },
  {
   "cell_type": "code",
   "execution_count": null,
   "metadata": {
    "collapsed": true
   },
   "outputs": [],
   "source": []
  },
  {
   "cell_type": "code",
   "execution_count": 97,
   "metadata": {
    "collapsed": true
   },
   "outputs": [],
   "source": []
  },
  {
   "cell_type": "markdown",
   "metadata": {},
   "source": [
    "## 5. Discussion Think critically about your creation\n",
    "- What went well?,\n",
    "- What is still missing? What could be improved?, Why?"
   ]
  }
 ],
 "metadata": {
  "anaconda-cloud": {},
  "kernelspec": {
   "display_name": "Python 2",
   "language": "python",
   "name": "python2"
  },
  "language_info": {
   "codemirror_mode": {
    "name": "ipython",
    "version": 2
   },
   "file_extension": ".py",
   "mimetype": "text/x-python",
   "name": "python",
   "nbconvert_exporter": "python",
   "pygments_lexer": "ipython2",
   "version": "2.7.12"
  }
 },
 "nbformat": 4,
 "nbformat_minor": 1
}
