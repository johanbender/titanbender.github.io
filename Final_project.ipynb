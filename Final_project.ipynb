{
 "cells": [
  {
   "cell_type": "markdown",
   "metadata": {},
   "source": [
    "# Project Assignment\n",
    "\n",
    "* [link to d3 home page](https://titanbender.github.io) \n",
    "* [link to git repo](https://github.com/titanbender/titanbender.github.io) "
   ]
  },
  {
   "cell_type": "code",
   "execution_count": null,
   "metadata": {
    "collapsed": false
   },
   "outputs": [],
   "source": [
    "from IPython.display import YouTubeVideo\n",
    "YouTubeVideo(\"FoEdy_Vy_V4\",width=640, height=360)"
   ]
  },
  {
   "cell_type": "code",
   "execution_count": 10,
   "metadata": {
    "collapsed": false
   },
   "outputs": [],
   "source": [
    "# Used libraries\n",
    "import json\n",
    "import numpy as np\n",
    "import pandas as pd\n",
    "from __future__ import division\n",
    "import matplotlib.pyplot as plt\n",
    "import collections \n",
    "from sklearn.cluster import KMeans"
   ]
  },
  {
   "cell_type": "markdown",
   "metadata": {},
   "source": [
    "## Defined functions"
   ]
  },
  {
   "cell_type": "code",
   "execution_count": 11,
   "metadata": {
    "collapsed": true
   },
   "outputs": [],
   "source": [
    "# Create JSON function \n",
    "def createJSON(my_dict, file_name):\n",
    "    with open(file_name, 'w') as outfile:\n",
    "        json.dump(my_dict, outfile)\n",
    "        outfile.close()"
   ]
  },
  {
   "cell_type": "code",
   "execution_count": null,
   "metadata": {
    "collapsed": true
   },
   "outputs": [],
   "source": [
    "# Data function for 2A\n",
    "def parseJson(year,file_name):\n",
    "    # number of obs. \n",
    "    tmp_DF = raw_DF[raw_DF[\"YEAR\"] == year]\n",
    "    #\n",
    "    tmp_lat = list(raw_DF[\"LATITUDE\"])\n",
    "    tmp_lon = list(raw_DF[\"LONGITUDE\"])\n",
    "    tmp_hour = list(raw_DF[\"HOUR\"])\n",
    "    tmp_borough = list(raw_DF[\"BOROUGH\"])\n",
    "    # \n",
    "    N_tot = len(tmp_lat)\n",
    "    \n",
    "    # output\n",
    "    out_dict = [{'lat': tmp_lat[ii],\n",
    "                 'lon': tmp_lon[ii],\n",
    "                 'r': 1,\n",
    "                 'district': tmp_borough[ii],\n",
    "                 'hour': tmp_hour[ii],\n",
    "                 'class': \"all\"} for ii in range(0,N_tot)]\n",
    "    #\n",
    "    createJSON(out_dict, file_name)    "
   ]
  },
  {
   "cell_type": "markdown",
   "metadata": {},
   "source": [
    "## Data manipulation"
   ]
  },
  {
   "cell_type": "code",
   "execution_count": 12,
   "metadata": {
    "collapsed": false,
    "scrolled": true
   },
   "outputs": [
    {
     "data": {
      "text/html": [
       "<div>\n",
       "<table border=\"1\" class=\"dataframe\">\n",
       "  <thead>\n",
       "    <tr style=\"text-align: right;\">\n",
       "      <th></th>\n",
       "      <th>DATE</th>\n",
       "      <th>TIME</th>\n",
       "      <th>BOROUGH</th>\n",
       "      <th>LATITUDE</th>\n",
       "      <th>LONGITUDE</th>\n",
       "      <th>NUMBER OF PERSONS INJURED</th>\n",
       "      <th>NUMBER OF PERSONS KILLED</th>\n",
       "      <th>NUMBER OF PEDESTRIANS INJURED</th>\n",
       "      <th>NUMBER OF PEDESTRIANS KILLED</th>\n",
       "      <th>NUMBER OF CYCLIST INJURED</th>\n",
       "      <th>...</th>\n",
       "      <th>CONTRIBUTING FACTOR VEHICLE 5</th>\n",
       "      <th>VEHICLE TYPE CODE 1</th>\n",
       "      <th>VEHICLE TYPE CODE 2</th>\n",
       "      <th>VEHICLE TYPE CODE 3</th>\n",
       "      <th>VEHICLE TYPE CODE 4</th>\n",
       "      <th>VEHICLE TYPE CODE 5</th>\n",
       "      <th>YEAR</th>\n",
       "      <th>HOUR</th>\n",
       "      <th>TIME_DEC</th>\n",
       "      <th>MONTH</th>\n",
       "    </tr>\n",
       "  </thead>\n",
       "  <tbody>\n",
       "    <tr>\n",
       "      <th>0</th>\n",
       "      <td>12/31/2016</td>\n",
       "      <td>0:05</td>\n",
       "      <td>MANHATTAN</td>\n",
       "      <td>40.731659</td>\n",
       "      <td>-73.985445</td>\n",
       "      <td>0</td>\n",
       "      <td>0</td>\n",
       "      <td>0</td>\n",
       "      <td>0</td>\n",
       "      <td>0</td>\n",
       "      <td>...</td>\n",
       "      <td>NaN</td>\n",
       "      <td>TAXI</td>\n",
       "      <td>TAXI</td>\n",
       "      <td>NaN</td>\n",
       "      <td>NaN</td>\n",
       "      <td>NaN</td>\n",
       "      <td>2016</td>\n",
       "      <td>0</td>\n",
       "      <td>0.083333</td>\n",
       "      <td>December</td>\n",
       "    </tr>\n",
       "    <tr>\n",
       "      <th>1</th>\n",
       "      <td>12/31/2016</td>\n",
       "      <td>0:00</td>\n",
       "      <td>BRONX</td>\n",
       "      <td>40.826258</td>\n",
       "      <td>-73.882463</td>\n",
       "      <td>0</td>\n",
       "      <td>0</td>\n",
       "      <td>0</td>\n",
       "      <td>0</td>\n",
       "      <td>0</td>\n",
       "      <td>...</td>\n",
       "      <td>NaN</td>\n",
       "      <td>TAXI</td>\n",
       "      <td>NaN</td>\n",
       "      <td>NaN</td>\n",
       "      <td>NaN</td>\n",
       "      <td>NaN</td>\n",
       "      <td>2016</td>\n",
       "      <td>0</td>\n",
       "      <td>0.000000</td>\n",
       "      <td>December</td>\n",
       "    </tr>\n",
       "    <tr>\n",
       "      <th>2</th>\n",
       "      <td>12/31/2016</td>\n",
       "      <td>0:00</td>\n",
       "      <td>BROOKLYN</td>\n",
       "      <td>40.684475</td>\n",
       "      <td>-73.974058</td>\n",
       "      <td>0</td>\n",
       "      <td>0</td>\n",
       "      <td>0</td>\n",
       "      <td>0</td>\n",
       "      <td>0</td>\n",
       "      <td>...</td>\n",
       "      <td>NaN</td>\n",
       "      <td>SPORT UTILITY / STATION WAGON</td>\n",
       "      <td>NaN</td>\n",
       "      <td>NaN</td>\n",
       "      <td>NaN</td>\n",
       "      <td>NaN</td>\n",
       "      <td>2016</td>\n",
       "      <td>0</td>\n",
       "      <td>0.000000</td>\n",
       "      <td>December</td>\n",
       "    </tr>\n",
       "    <tr>\n",
       "      <th>3</th>\n",
       "      <td>12/31/2016</td>\n",
       "      <td>0:00</td>\n",
       "      <td>BROOKLYN</td>\n",
       "      <td>40.685180</td>\n",
       "      <td>-73.933487</td>\n",
       "      <td>0</td>\n",
       "      <td>0</td>\n",
       "      <td>0</td>\n",
       "      <td>0</td>\n",
       "      <td>0</td>\n",
       "      <td>...</td>\n",
       "      <td>NaN</td>\n",
       "      <td>SPORT UTILITY / STATION WAGON</td>\n",
       "      <td>NaN</td>\n",
       "      <td>NaN</td>\n",
       "      <td>NaN</td>\n",
       "      <td>NaN</td>\n",
       "      <td>2016</td>\n",
       "      <td>0</td>\n",
       "      <td>0.000000</td>\n",
       "      <td>December</td>\n",
       "    </tr>\n",
       "    <tr>\n",
       "      <th>4</th>\n",
       "      <td>12/31/2016</td>\n",
       "      <td>0:00</td>\n",
       "      <td>BROOKLYN</td>\n",
       "      <td>40.646707</td>\n",
       "      <td>-73.965467</td>\n",
       "      <td>0</td>\n",
       "      <td>0</td>\n",
       "      <td>0</td>\n",
       "      <td>0</td>\n",
       "      <td>0</td>\n",
       "      <td>...</td>\n",
       "      <td>NaN</td>\n",
       "      <td>PASSENGER VEHICLE</td>\n",
       "      <td>NaN</td>\n",
       "      <td>NaN</td>\n",
       "      <td>NaN</td>\n",
       "      <td>NaN</td>\n",
       "      <td>2016</td>\n",
       "      <td>0</td>\n",
       "      <td>0.000000</td>\n",
       "      <td>December</td>\n",
       "    </tr>\n",
       "  </tbody>\n",
       "</table>\n",
       "<p>5 rows × 27 columns</p>\n",
       "</div>"
      ],
      "text/plain": [
       "         DATE  TIME    BOROUGH   LATITUDE  LONGITUDE  \\\n",
       "0  12/31/2016  0:05  MANHATTAN  40.731659 -73.985445   \n",
       "1  12/31/2016  0:00      BRONX  40.826258 -73.882463   \n",
       "2  12/31/2016  0:00   BROOKLYN  40.684475 -73.974058   \n",
       "3  12/31/2016  0:00   BROOKLYN  40.685180 -73.933487   \n",
       "4  12/31/2016  0:00   BROOKLYN  40.646707 -73.965467   \n",
       "\n",
       "   NUMBER OF PERSONS INJURED  NUMBER OF PERSONS KILLED  \\\n",
       "0                          0                         0   \n",
       "1                          0                         0   \n",
       "2                          0                         0   \n",
       "3                          0                         0   \n",
       "4                          0                         0   \n",
       "\n",
       "   NUMBER OF PEDESTRIANS INJURED  NUMBER OF PEDESTRIANS KILLED  \\\n",
       "0                              0                             0   \n",
       "1                              0                             0   \n",
       "2                              0                             0   \n",
       "3                              0                             0   \n",
       "4                              0                             0   \n",
       "\n",
       "   NUMBER OF CYCLIST INJURED    ...     CONTRIBUTING FACTOR VEHICLE 5  \\\n",
       "0                          0    ...                               NaN   \n",
       "1                          0    ...                               NaN   \n",
       "2                          0    ...                               NaN   \n",
       "3                          0    ...                               NaN   \n",
       "4                          0    ...                               NaN   \n",
       "\n",
       "             VEHICLE TYPE CODE 1  VEHICLE TYPE CODE 2 VEHICLE TYPE CODE 3  \\\n",
       "0                           TAXI                 TAXI                 NaN   \n",
       "1                           TAXI                  NaN                 NaN   \n",
       "2  SPORT UTILITY / STATION WAGON                  NaN                 NaN   \n",
       "3  SPORT UTILITY / STATION WAGON                  NaN                 NaN   \n",
       "4              PASSENGER VEHICLE                  NaN                 NaN   \n",
       "\n",
       "  VEHICLE TYPE CODE 4 VEHICLE TYPE CODE 5  YEAR HOUR  TIME_DEC     MONTH  \n",
       "0                 NaN                 NaN  2016    0  0.083333  December  \n",
       "1                 NaN                 NaN  2016    0  0.000000  December  \n",
       "2                 NaN                 NaN  2016    0  0.000000  December  \n",
       "3                 NaN                 NaN  2016    0  0.000000  December  \n",
       "4                 NaN                 NaN  2016    0  0.000000  December  \n",
       "\n",
       "[5 rows x 27 columns]"
      ]
     },
     "execution_count": 12,
     "metadata": {},
     "output_type": "execute_result"
    }
   ],
   "source": [
    "## Data manipulation\n",
    "# Load data\n",
    "raw_DF = pd.read_csv(\"data/raw_data.csv\", low_memory = False)\n",
    "\n",
    "# Getting year\n",
    "year = raw_DF[\"DATE\"].apply(lambda x: x.split('/'))\n",
    "raw_DF[\"YEAR\"] = year.apply(lambda x: int(x[2]))\n",
    "\n",
    "# Getting hour\n",
    "hour = raw_DF[\"TIME\"].apply(lambda x: x.split(':'))\n",
    "raw_DF[\"HOUR\"] = hour.apply(lambda x: int(x[0]))\n",
    "raw_DF[\"TIME_DEC\"] = hour.apply(lambda x: float(int(x[0]) + int(x[1])/60) )\n",
    "\n",
    "# String values for month\n",
    "month_list = ['January', 'February', 'March', 'April', 'May', 'June', 'July',\n",
    "              'August', 'September', 'October', 'November', 'December']\n",
    "\n",
    "# Getting month\n",
    "month = raw_DF[\"DATE\"].apply(lambda x: x.split('/'))\n",
    "raw_DF[\"MONTH\"] = month.apply(lambda x: month_list[int(x[0])-1])\n",
    "\n",
    "# remove unused columns\n",
    "raw_DF_tmp = raw_DF.drop(['ZIP CODE',\n",
    "                          'LOCATION',\n",
    "                          'UNIQUE KEY',\n",
    "                          'ON STREET NAME',\n",
    "                          'CROSS STREET NAME',\n",
    "                          'OFF STREET NAME'], axis = 1)\n",
    "# raw_DF_tmp.head()"
   ]
  },
  {
   "cell_type": "markdown",
   "metadata": {},
   "source": [
    "## Pratical data information"
   ]
  },
  {
   "cell_type": "code",
   "execution_count": 14,
   "metadata": {
    "collapsed": false
   },
   "outputs": [
    {
     "name": "stdout",
     "output_type": "stream",
     "text": [
      "First day of observations: 01/01/2013\n",
      "Last day of observations: 12/31/2016\n",
      "Total number of obs. in mentioned period: 601313\n",
      "\n",
      "Observations per month:\n",
      "May          56432\n",
      "June         54375\n",
      "October      52628\n",
      "March        52484\n",
      "December     51799\n",
      "April        51490\n",
      "July         51468\n",
      "November     51315\n",
      "January      51049\n",
      "February     46477\n",
      "September    41507\n",
      "August       40289\n",
      "Name: MONTH, dtype: int64\n",
      "\n",
      "Accidents per district:\n",
      "BROOKLYN         184622\n",
      "QUEENS           155957\n",
      "MANHATTAN        155788\n",
      "BRONX             78176\n",
      "STATEN ISLAND     26770\n",
      "Name: BOROUGH, dtype: int64\n",
      "\n",
      "Geographic area of each district:\n",
      "To be done.... \n",
      "\n",
      "Ratio between geographic area per district and number of accidents\n",
      "To be done.... \n",
      "\n",
      "Types of accidents\n",
      "To be done.... \n",
      "\n",
      "Accidents per year:\n",
      "2015    163417\n",
      "2014    156293\n",
      "2013    155958\n",
      "2016    125645\n",
      "Name: YEAR, dtype: int64\n",
      "\n",
      "Average accidents per day: 422\n",
      "Day with most accidents 843\n",
      "\n",
      "Top 10 days with most accidents:\n",
      "01/21/2014    843\n",
      "02/03/2014    776\n",
      "03/06/2015    715\n",
      "03/08/2013    703\n",
      "01/18/2015    692\n",
      "03/05/2015    675\n",
      "11/26/2013    656\n",
      "02/14/2014    645\n",
      "06/07/2013    623\n",
      "Name: DATE, dtype: int64\n"
     ]
    }
   ],
   "source": [
    "# Pratical data information\n",
    "print \"First day of observations:\", min(raw_DF[\"DATE\"])\n",
    "print \"Last day of observations:\", max(raw_DF[\"DATE\"])\n",
    "print \"Total number of obs. in mentioned period:\" , len(raw_DF['DATE'])\n",
    "print \"\"\n",
    "print \"Observations per month:\"\n",
    "print raw_DF[\"MONTH\"].value_counts()\n",
    "print \"\"\n",
    "print \"Accidents per district:\"\n",
    "print raw_DF[\"BOROUGH\"].value_counts()\n",
    "print \"\"\n",
    "print \"Geographic area of each district:\"\n",
    "print \"To be done.... \"\n",
    "print \"\"\n",
    "print \"Ratio between geographic area per district and number of accidents\"\n",
    "print \"To be done.... \"\n",
    "print \"\"\n",
    "print \"Types of accidents\"\n",
    "print \"To be done.... \"\n",
    "print \"\"\n",
    "print \"Accidents per year:\"\n",
    "print raw_DF[\"YEAR\"].value_counts()\n",
    "print \"\"\n",
    "print \"Average accidents per day:\", int(len(raw_DF)/356/4)\n",
    "print \"Day with most accidents\", max(raw_DF['DATE'].value_counts())\n",
    "print \"\"\n",
    "print \"Top 10 days with most accidents:\" \n",
    "print raw_DF['DATE'].value_counts()[0:9]\n"
   ]
  },
  {
   "cell_type": "markdown",
   "metadata": {
    "collapsed": true
   },
   "source": [
    "## 1. Motivation\n",
    "- What is your dataset?\n",
    "- Why did you choose this/these particular dataset(s)?\n",
    "- What was your goal for the end user's experience?"
   ]
  },
  {
   "cell_type": "markdown",
   "metadata": {},
   "source": [
    "## 2. Basic stats. Let's understand the dataset better\n",
    "- Write about your choices in data cleaning and preprocessing\n",
    "- Write a short section that discusses the dataset stats (here you can recycle the work you did for Project Assignment A)"
   ]
  },
  {
   "cell_type": "markdown",
   "metadata": {},
   "source": [
    "## 3. Theory. Which theoretical tools did you use?\n",
    "- Describe which machine learning tools you use and why the tools you've chosen are right for the problem you're solving.\n",
    "- Talk about your model selection. How did you split the data in to test/training. Did you use cross validation?\n",
    "- Explain the model performance. How did you measure it? Are your results what you expected?"
   ]
  },
  {
   "cell_type": "markdown",
   "metadata": {},
   "source": [
    "## 4. Visualizations\n",
    "- Explain the visualizations you've chosen.\n",
    "- Why are they right for the story you want to tell?"
   ]
  },
  {
   "cell_type": "markdown",
   "metadata": {},
   "source": [
    "## 5. Discussion. Think critically about your creation\n",
    "- What went well?,\n",
    "- What is still missing? What could be improved?, Why?"
   ]
  },
  {
   "cell_type": "markdown",
   "metadata": {},
   "source": [
    "## Some additional notes:\n",
    "- Make sure that you use references when they're needed and follow academic standards."
   ]
  },
  {
   "cell_type": "code",
   "execution_count": null,
   "metadata": {
    "collapsed": true
   },
   "outputs": [],
   "source": [
    "## Questions to explore\n",
    "\n",
    "#1: Visualize the geographic location of the accidents occurances over the years\n",
    "\n",
    "#2: Visualize the geographic location of the accidents orrances based upon the vehicle type\n",
    "\n",
    "#3: Create a bar plot to visualize crime occurances from year to year also broken down into types of accidents \n",
    "\n",
    "#4: Analyze if there is any seasonality of other patterns correlated with time\n",
    "\n",
    "#5: Create a prediction tool that can be used to predict the type of accident based upon goegraphic location. "
   ]
  },
  {
   "cell_type": "code",
   "execution_count": null,
   "metadata": {
    "collapsed": true
   },
   "outputs": [],
   "source": []
  },
  {
   "cell_type": "code",
   "execution_count": null,
   "metadata": {
    "collapsed": true
   },
   "outputs": [],
   "source": []
  }
 ],
 "metadata": {
  "anaconda-cloud": {},
  "kernelspec": {
   "display_name": "Python 2",
   "language": "python",
   "name": "python2"
  },
  "language_info": {
   "codemirror_mode": {
    "name": "ipython",
    "version": 2
   },
   "file_extension": ".py",
   "mimetype": "text/x-python",
   "name": "python",
   "nbconvert_exporter": "python",
   "pygments_lexer": "ipython2",
   "version": "2.7.12"
  }
 },
 "nbformat": 4,
 "nbformat_minor": 1
}
