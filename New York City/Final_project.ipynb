{
 "cells": [
  {
   "cell_type": "markdown",
   "metadata": {},
   "source": [
    "# Assignment 2\n",
    "\n",
    "* [link to video](https://youtube.com) \n",
    "* [link to homepage](https://titanbender.github.io) "
   ]
  },
  {
   "cell_type": "code",
   "execution_count": 23,
   "metadata": {
    "collapsed": false
   },
   "outputs": [],
   "source": [
    "# Used libraries\n",
    "import json\n",
    "import numpy as np\n",
    "import pandas as pd\n",
    "from __future__ import division\n",
    "import matplotlib.pyplot as plt\n",
    "import collections \n",
    "from sklearn.cluster import KMeans"
   ]
  },
  {
   "cell_type": "markdown",
   "metadata": {},
   "source": [
    "## Defined functions"
   ]
  },
  {
   "cell_type": "code",
   "execution_count": 24,
   "metadata": {
    "collapsed": true
   },
   "outputs": [],
   "source": [
    "# Create JSON function \n",
    "def createJSON(my_dict, file_name):\n",
    "    with open(file_name, 'w') as outfile:\n",
    "        json.dump(my_dict, outfile)\n",
    "        outfile.close()"
   ]
  },
  {
   "cell_type": "markdown",
   "metadata": {},
   "source": [
    "## Data manipulation"
   ]
  },
  {
   "cell_type": "code",
   "execution_count": 44,
   "metadata": {
    "collapsed": false
   },
   "outputs": [],
   "source": [
    "# Load data\n",
    "raw_DF = pd.read_csv(\"data/raw_data.csv\")\n",
    "\n",
    "raw_DF = raw_DF.drop('LOCATION', axis = 1)\n",
    "raw_DF = raw_DF.drop('UNIQUE KEY', axis = 1)\n",
    "raw_DF = raw_DF.dropna(axis=0)\n"
   ]
  },
  {
   "cell_type": "code",
   "execution_count": 47,
   "metadata": {
    "collapsed": false
   },
   "outputs": [
    {
     "data": {
      "text/html": [
       "<div>\n",
       "<table border=\"1\" class=\"dataframe\">\n",
       "  <thead>\n",
       "    <tr style=\"text-align: right;\">\n",
       "      <th></th>\n",
       "      <th>DATE</th>\n",
       "      <th>TIME</th>\n",
       "      <th>BOROUGH</th>\n",
       "      <th>ZIP CODE</th>\n",
       "      <th>LATITUDE</th>\n",
       "      <th>LONGITUDE</th>\n",
       "      <th>ON STREET NAME</th>\n",
       "      <th>CROSS STREET NAME</th>\n",
       "      <th>OFF STREET NAME</th>\n",
       "      <th>NUMBER OF PERSONS INJURED</th>\n",
       "      <th>...</th>\n",
       "      <th>CONTRIBUTING FACTOR VEHICLE 4</th>\n",
       "      <th>CONTRIBUTING FACTOR VEHICLE 5</th>\n",
       "      <th>VEHICLE TYPE CODE 1</th>\n",
       "      <th>VEHICLE TYPE CODE 2</th>\n",
       "      <th>VEHICLE TYPE CODE 3</th>\n",
       "      <th>VEHICLE TYPE CODE 4</th>\n",
       "      <th>VEHICLE TYPE CODE 5</th>\n",
       "      <th>HOUR</th>\n",
       "      <th>TIME_DEC</th>\n",
       "      <th>YEAR</th>\n",
       "    </tr>\n",
       "  </thead>\n",
       "  <tbody>\n",
       "    <tr>\n",
       "      <th>36215</th>\n",
       "      <td>03/15/2016</td>\n",
       "      <td>14:10</td>\n",
       "      <td>BROOKLYN</td>\n",
       "      <td>11235.0</td>\n",
       "      <td>40.580222</td>\n",
       "      <td>-73.957524</td>\n",
       "      <td>OCEANVIEW AVENUE</td>\n",
       "      <td>BRIGHTON 11 STREET</td>\n",
       "      <td></td>\n",
       "      <td>0</td>\n",
       "      <td>...</td>\n",
       "      <td>Brakes Defective</td>\n",
       "      <td>Brakes Defective</td>\n",
       "      <td>PASSENGER VEHICLE</td>\n",
       "      <td>PASSENGER VEHICLE</td>\n",
       "      <td>PASSENGER VEHICLE</td>\n",
       "      <td>PASSENGER VEHICLE</td>\n",
       "      <td>PASSENGER VEHICLE</td>\n",
       "      <td>14</td>\n",
       "      <td>14.166667</td>\n",
       "      <td>2016</td>\n",
       "    </tr>\n",
       "    <tr>\n",
       "      <th>37347</th>\n",
       "      <td>03/17/2016</td>\n",
       "      <td>15:00</td>\n",
       "      <td>BROOKLYN</td>\n",
       "      <td>11223.0</td>\n",
       "      <td>40.606975</td>\n",
       "      <td>-73.963057</td>\n",
       "      <td></td>\n",
       "      <td></td>\n",
       "      <td>925 KINGS HIGHWAY</td>\n",
       "      <td>0</td>\n",
       "      <td>...</td>\n",
       "      <td>Other Vehicular</td>\n",
       "      <td>Other Vehicular</td>\n",
       "      <td>PASSENGER VEHICLE</td>\n",
       "      <td>PASSENGER VEHICLE</td>\n",
       "      <td>PASSENGER VEHICLE</td>\n",
       "      <td>PASSENGER VEHICLE</td>\n",
       "      <td>PASSENGER VEHICLE</td>\n",
       "      <td>15</td>\n",
       "      <td>15.000000</td>\n",
       "      <td>2016</td>\n",
       "    </tr>\n",
       "    <tr>\n",
       "      <th>37479</th>\n",
       "      <td>03/17/2016</td>\n",
       "      <td>12:00</td>\n",
       "      <td>BROOKLYN</td>\n",
       "      <td>11232.0</td>\n",
       "      <td>40.654430</td>\n",
       "      <td>-74.007565</td>\n",
       "      <td>3 AVENUE</td>\n",
       "      <td>38 STREET</td>\n",
       "      <td></td>\n",
       "      <td>0</td>\n",
       "      <td>...</td>\n",
       "      <td>Unspecified</td>\n",
       "      <td>Unspecified</td>\n",
       "      <td>PASSENGER VEHICLE</td>\n",
       "      <td>PASSENGER VEHICLE</td>\n",
       "      <td>PASSENGER VEHICLE</td>\n",
       "      <td>PASSENGER VEHICLE</td>\n",
       "      <td>PASSENGER VEHICLE</td>\n",
       "      <td>12</td>\n",
       "      <td>12.000000</td>\n",
       "      <td>2016</td>\n",
       "    </tr>\n",
       "    <tr>\n",
       "      <th>38469</th>\n",
       "      <td>03/19/2016</td>\n",
       "      <td>0:02</td>\n",
       "      <td>QUEENS</td>\n",
       "      <td>11418.0</td>\n",
       "      <td>40.698824</td>\n",
       "      <td>-73.847003</td>\n",
       "      <td>102 STREET</td>\n",
       "      <td>PARK LANE SOUTH</td>\n",
       "      <td></td>\n",
       "      <td>1</td>\n",
       "      <td>...</td>\n",
       "      <td>Alcohol Involvement</td>\n",
       "      <td>Alcohol Involvement</td>\n",
       "      <td>PASSENGER VEHICLE</td>\n",
       "      <td>PASSENGER VEHICLE</td>\n",
       "      <td>PASSENGER VEHICLE</td>\n",
       "      <td>PASSENGER VEHICLE</td>\n",
       "      <td>PASSENGER VEHICLE</td>\n",
       "      <td>0</td>\n",
       "      <td>0.033333</td>\n",
       "      <td>2016</td>\n",
       "    </tr>\n",
       "    <tr>\n",
       "      <th>38720</th>\n",
       "      <td>03/20/2016</td>\n",
       "      <td>4:40</td>\n",
       "      <td>QUEENS</td>\n",
       "      <td>11368.0</td>\n",
       "      <td>40.747615</td>\n",
       "      <td>-73.866491</td>\n",
       "      <td>41 AVENUE</td>\n",
       "      <td>98 STREET</td>\n",
       "      <td></td>\n",
       "      <td>0</td>\n",
       "      <td>...</td>\n",
       "      <td>Driver Inattention/Distraction</td>\n",
       "      <td>Driver Inattention/Distraction</td>\n",
       "      <td>PASSENGER VEHICLE</td>\n",
       "      <td>PASSENGER VEHICLE</td>\n",
       "      <td>PASSENGER VEHICLE</td>\n",
       "      <td>PASSENGER VEHICLE</td>\n",
       "      <td>PASSENGER VEHICLE</td>\n",
       "      <td>4</td>\n",
       "      <td>4.666667</td>\n",
       "      <td>2016</td>\n",
       "    </tr>\n",
       "  </tbody>\n",
       "</table>\n",
       "<p>5 rows × 30 columns</p>\n",
       "</div>"
      ],
      "text/plain": [
       "             DATE   TIME   BOROUGH  ZIP CODE   LATITUDE  LONGITUDE  \\\n",
       "36215  03/15/2016  14:10  BROOKLYN   11235.0  40.580222 -73.957524   \n",
       "37347  03/17/2016  15:00  BROOKLYN   11223.0  40.606975 -73.963057   \n",
       "37479  03/17/2016  12:00  BROOKLYN   11232.0  40.654430 -74.007565   \n",
       "38469  03/19/2016   0:02    QUEENS   11418.0  40.698824 -73.847003   \n",
       "38720  03/20/2016   4:40    QUEENS   11368.0  40.747615 -73.866491   \n",
       "\n",
       "                         ON STREET NAME                 CROSS STREET NAME  \\\n",
       "36215  OCEANVIEW AVENUE                  BRIGHTON 11 STREET                 \n",
       "37347                                                                       \n",
       "37479  3 AVENUE                          38 STREET                          \n",
       "38469  102 STREET                        PARK LANE SOUTH                    \n",
       "38720  41 AVENUE                         98 STREET                          \n",
       "\n",
       "                                OFF STREET NAME  NUMBER OF PERSONS INJURED  \\\n",
       "36215                                                                    0   \n",
       "37347  925 KINGS HIGHWAY                                                 0   \n",
       "37479                                                                    0   \n",
       "38469                                                                    1   \n",
       "38720                                                                    0   \n",
       "\n",
       "       ...    CONTRIBUTING FACTOR VEHICLE 4   CONTRIBUTING FACTOR VEHICLE 5  \\\n",
       "36215  ...                 Brakes Defective                Brakes Defective   \n",
       "37347  ...                  Other Vehicular                 Other Vehicular   \n",
       "37479  ...                      Unspecified                     Unspecified   \n",
       "38469  ...              Alcohol Involvement             Alcohol Involvement   \n",
       "38720  ...   Driver Inattention/Distraction  Driver Inattention/Distraction   \n",
       "\n",
       "       VEHICLE TYPE CODE 1  VEHICLE TYPE CODE 2  VEHICLE TYPE CODE 3  \\\n",
       "36215    PASSENGER VEHICLE    PASSENGER VEHICLE    PASSENGER VEHICLE   \n",
       "37347    PASSENGER VEHICLE    PASSENGER VEHICLE    PASSENGER VEHICLE   \n",
       "37479    PASSENGER VEHICLE    PASSENGER VEHICLE    PASSENGER VEHICLE   \n",
       "38469    PASSENGER VEHICLE    PASSENGER VEHICLE    PASSENGER VEHICLE   \n",
       "38720    PASSENGER VEHICLE    PASSENGER VEHICLE    PASSENGER VEHICLE   \n",
       "\n",
       "       VEHICLE TYPE CODE 4  VEHICLE TYPE CODE 5 HOUR   TIME_DEC  YEAR  \n",
       "36215    PASSENGER VEHICLE    PASSENGER VEHICLE   14  14.166667  2016  \n",
       "37347    PASSENGER VEHICLE    PASSENGER VEHICLE   15  15.000000  2016  \n",
       "37479    PASSENGER VEHICLE    PASSENGER VEHICLE   12  12.000000  2016  \n",
       "38469    PASSENGER VEHICLE    PASSENGER VEHICLE    0   0.033333  2016  \n",
       "38720    PASSENGER VEHICLE    PASSENGER VEHICLE    4   4.666667  2016  \n",
       "\n",
       "[5 rows x 30 columns]"
      ]
     },
     "execution_count": 47,
     "metadata": {},
     "output_type": "execute_result"
    }
   ],
   "source": [
    "# Data manipulation \n",
    "# Getting hour\n",
    "hour = raw_DF[\"TIME\"].apply(lambda x: x.split(':'))\n",
    "raw_DF[\"HOUR\"] = hour.apply(lambda x: int(x[0]))\n",
    "raw_DF[\"TIME_DEC\"] = hour.apply(lambda x: float(int(x[0]) + int(x[1])/60) )\n",
    "\n",
    "## Getting year\n",
    "year = raw_DF[\"DATE\"].apply(lambda x: x.split('/'))\n",
    "raw_DF[\"YEAR\"] = year.apply(lambda x: int(x[2]))\n",
    "raw_DF.head()"
   ]
  },
  {
   "cell_type": "code",
   "execution_count": 48,
   "metadata": {
    "collapsed": false
   },
   "outputs": [
    {
     "name": "stdout",
     "output_type": "stream",
     "text": [
      "First day of observations: 01/01/2016\n",
      "Last day of observations: 01/01/2017\n",
      "Total number of obs. in mentioned period: 171\n"
     ]
    }
   ],
   "source": [
    "# Pratical data information\n",
    "print \"First day of observations: 01/01/2016\"\n",
    "print \"Last day of observations: 01/01/2017\"\n",
    "print 'Total number of obs. in mentioned period:' , raw_DF.shape[0]"
   ]
  },
  {
   "cell_type": "markdown",
   "metadata": {},
   "source": [
    "## Plot all"
   ]
  },
  {
   "cell_type": "code",
   "execution_count": 54,
   "metadata": {
    "collapsed": false
   },
   "outputs": [],
   "source": [
    "# Data function for 2A\n",
    "def parseJson(year,file_name):\n",
    "    # number of obs. \n",
    "    tmp_DF = raw_DF[raw_DF[\"YEAR\"] == year]\n",
    "    #\n",
    "    tmp_lat = list(raw_DF[\"LATITUDE\"])\n",
    "    tmp_lon = list(raw_DF[\"LONGITUDE\"])\n",
    "    tmp_hour = list(raw_DF[\"HOUR\"])\n",
    "    tmp_borough = list(raw_DF[\"BOROUGH\"])\n",
    "    # \n",
    "    N_tot = len(tmp_lat)\n",
    "    \n",
    "    # output\n",
    "    out_dict = [{'lat': tmp_lat[ii],\n",
    "                 'lon': tmp_lon[ii],\n",
    "                 'r': 1,\n",
    "                 'district': tmp_borough[ii],\n",
    "                 'hour': tmp_hour[ii],\n",
    "                 'class': \"all\"} for ii in range(0,N_tot)]\n",
    "    #\n",
    "    createJSON(out_dict, file_name)    "
   ]
  },
  {
   "cell_type": "code",
   "execution_count": 55,
   "metadata": {
    "collapsed": false
   },
   "outputs": [],
   "source": [
    "parseJson(2016, \"data/all.json\")\n"
   ]
  },
  {
   "cell_type": "code",
   "execution_count": 33,
   "metadata": {
    "collapsed": false
   },
   "outputs": [],
   "source": [
    "tmp"
   ]
  },
  {
   "cell_type": "code",
   "execution_count": null,
   "metadata": {
    "collapsed": true
   },
   "outputs": [],
   "source": []
  },
  {
   "cell_type": "code",
   "execution_count": null,
   "metadata": {
    "collapsed": true
   },
   "outputs": [],
   "source": []
  }
 ],
 "metadata": {
  "anaconda-cloud": {},
  "kernelspec": {
   "display_name": "Python 2",
   "language": "python",
   "name": "python2"
  },
  "language_info": {
   "codemirror_mode": {
    "name": "ipython",
    "version": 2
   },
   "file_extension": ".py",
   "mimetype": "text/x-python",
   "name": "python",
   "nbconvert_exporter": "python",
   "pygments_lexer": "ipython2",
   "version": "2.7.12"
  }
 },
 "nbformat": 4,
 "nbformat_minor": 1
}
