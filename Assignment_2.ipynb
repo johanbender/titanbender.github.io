{
 "cells": [
  {
   "cell_type": "markdown",
   "metadata": {},
   "source": [
    "# Assignment 2\n",
    "\n",
    "* [link to visualizations](https://s160159.github.io) "
   ]
  },
  {
   "cell_type": "code",
   "execution_count": 1,
   "metadata": {
    "collapsed": false
   },
   "outputs": [],
   "source": [
    "# Used libraries\n",
    "import json\n",
    "import numpy as np\n",
    "import pandas as pd\n",
    "from __future__ import division\n",
    "import matplotlib.pyplot as plt\n",
    "import collections \n",
    "from sklearn.cluster import KMeans"
   ]
  },
  {
   "cell_type": "markdown",
   "metadata": {},
   "source": [
    "## Assignment 2: Data manipulation"
   ]
  },
  {
   "cell_type": "code",
   "execution_count": 2,
   "metadata": {
    "collapsed": false
   },
   "outputs": [],
   "source": [
    "# Load data\n",
    "SF_df = pd.read_csv(\"data/SFPD_14_15_15_Pro_Veh.csv\")\n",
    "\n",
    "# Latitude and longtitude values center SF\n",
    "y_max_lat = 37.8096707013\n",
    "y_min_lat = 37.7080034569\n",
    "x_min_lon = -122.513642064\n",
    "x_max_lon = -122.365565425\n",
    "\n",
    "# Remove obs. which are outside SF\n",
    "valid_idx = [ii for ii in range(0,SF_df.X.size) if SF_df.get_value(ii,\"X\") > x_min_lon and\n",
    "                                         SF_df.get_value(ii,\"X\") < x_max_lon and\n",
    "                                         SF_df.get_value(ii,\"Y\") > y_min_lat and\n",
    "                                         SF_df.get_value(ii,\"Y\") < y_max_lat]\n",
    "# Use valid index\n",
    "SF_df = SF_df.loc[valid_idx]\n",
    "\n",
    "SF_df_range = range(0,len(valid_idx))\n",
    "SF_df_N = len(SF_df_range)"
   ]
  },
  {
   "cell_type": "code",
   "execution_count": 3,
   "metadata": {
    "collapsed": false
   },
   "outputs": [],
   "source": [
    "# Data manipulation \n",
    "\n",
    "# Getting hour\n",
    "hour = SF_df[\"Time\"].apply(lambda x: x.split(':'))\n",
    "SF_df[\"Hour\"] = hour.apply(lambda x: int(x[0]))\n",
    "SF_df[\"Time_dec\"] = hour.apply(lambda x: float(int(x[0]) + int(x[1])/60) )\n",
    "\n",
    "# Endocing DayOfWeek\n",
    "day_dict = {'Monday': 1,'Tuesday': 2,'Wednesday': 3,'Thursday':4,\n",
    "           'Friday': 5,'Saturday': 6,'Sunday': 7}\n",
    "SF_df[\"DayOfWeek_int\"] = SF_df[\"DayOfWeek\"].apply(lambda x: day_dict[x])\n",
    "\n",
    "# Getting year\n",
    "year = SF_df[\"Date\"].apply(lambda x: x.split('/'))\n",
    "SF_df[\"Year\"] = year.apply(lambda x: int(x[2]))"
   ]
  },
  {
   "cell_type": "code",
   "execution_count": 4,
   "metadata": {
    "collapsed": true
   },
   "outputs": [],
   "source": [
    "# Find indices for the two focus crimes\n",
    "idx_focus_crimes = {}\n",
    "focus_crimes = ['PROSTITUTION', 'VEHICLE THEFT']\n",
    "\n",
    "# Indeices for each focus crime\n",
    "for jj in range(0,len(focus_crimes)):\n",
    "    idx_focus_crimes[focus_crimes[jj]] = list(SF_df.Category[SF_df.Category == focus_crimes[jj]].index)\n",
    "\n",
    "# Assignment 2A\n",
    "SF_df_pro_veh = SF_df.loc[idx_focus_crimes['PROSTITUTION'] + idx_focus_crimes['VEHICLE THEFT']]\n",
    "\n",
    "# Assignment 2B \n",
    "SF_df_pro = SF_df.loc[idx_focus_crimes['PROSTITUTION']]"
   ]
  },
  {
   "cell_type": "code",
   "execution_count": 5,
   "metadata": {
    "collapsed": false
   },
   "outputs": [
    {
     "name": "stdout",
     "output_type": "stream",
     "text": [
      "First day of observations: 01/01/2014\n",
      "Last day of observations: 12/31/2016\n",
      "Total number of crimes in mentioned period: 22876\n",
      "Number of PROSTITUTION crimes in mentioned period: 1463\n",
      "Number of VEHICLE THEFT crimes in mentioned period: 21413\n"
     ]
    }
   ],
   "source": [
    "# Pratical data information\n",
    "print \"First day of observations: 01/01/2014\"\n",
    "print \"Last day of observations: 12/31/2016\"\n",
    "print 'Total number of crimes in mentioned period:' , len(idx_focus_crimes['PROSTITUTION']) + len(idx_focus_crimes['VEHICLE THEFT'])\n",
    "print 'Number of PROSTITUTION crimes in mentioned period:' , len(idx_focus_crimes['PROSTITUTION'])\n",
    "print 'Number of VEHICLE THEFT crimes in mentioned period:' , len(idx_focus_crimes['VEHICLE THEFT'])"
   ]
  },
  {
   "cell_type": "markdown",
   "metadata": {},
   "source": [
    "## Assignment 2A: One scatter plot and two datasets"
   ]
  },
  {
   "cell_type": "code",
   "execution_count": 6,
   "metadata": {
    "collapsed": false
   },
   "outputs": [],
   "source": [
    "# Data function for 2A\n",
    "def myFun2A(year):\n",
    "    colorDistrict = [\"pink\", \n",
    "                     \"rgba(38,41,74,1)\", \n",
    "                     \"rgba(1,84,90,1)\", \n",
    "                     \"rgba(1,115,81,1)\", \n",
    "                     \"rgba(3,195,131,1)\", \n",
    "                     \"rgba(170,217,98,1)\", \n",
    "                     \"rgba(251,191,69,1)\", \n",
    "                     \"rgba(239,106,50,1)\", \n",
    "                     \"rgba(237,3,69,1)\", \n",
    "                     \"rgba(161,42,94,1)\"]\n",
    "    districtColorDic = {}\n",
    "    \n",
    "    # output\n",
    "    out_frame = []\n",
    "    # unique \n",
    "    unique_pdist = list(set(SF_df_pro_veh[\"PdDistrict\"]))\n",
    "    for xx in range(0,len(unique_pdist)):\n",
    "        districtColorDic[unique_pdist[xx]] = colorDistrict[xx]\n",
    "        \n",
    "    N_tot = SF_df_pro_veh[SF_df_pro_veh[\"Year\"] == year].shape[0]  \n",
    "\n",
    "    for ii in range(0, len(unique_pdist)):\n",
    "        pdist = unique_pdist[ii]\n",
    "        tmp = SF_df_pro_veh[(SF_df_pro_veh[\"PdDistrict\"] == pdist) & \n",
    "                            (SF_df_pro_veh[\"Year\"] == year)]\n",
    "                  \n",
    "        N_sub = tmp.shape[0]            \n",
    "        # PROSTITUTION X \n",
    "        # VEHICLE THEFT Y\n",
    "        out_frame.append({'X': tmp[tmp[\"Category\"] == 'PROSTITUTION'].shape[0],\n",
    "                          'Y': tmp[tmp[\"Category\"] == 'VEHICLE THEFT'].shape[0],\n",
    "                          'tot': N_tot,\n",
    "                          'sub': N_sub,\n",
    "                          'r': 1,\n",
    "                          'value': pdist,\n",
    "                          'color': districtColorDic[pdist]})\n",
    "\n",
    "    for ii in range(0, len(unique_pdist)):\n",
    "        out_frame[ii]['r'] = out_frame[ii]['sub'] / out_frame[ii]['tot'] * 105 # \n",
    "        \n",
    "    return(out_frame)"
   ]
  },
  {
   "cell_type": "code",
   "execution_count": 7,
   "metadata": {
    "collapsed": false
   },
   "outputs": [],
   "source": [
    "# Year 2014, 2015, 2016\n",
    "assignment2BJSON_2014 = myFun2A(2014)\n",
    "assignment2BJSON_2015 = myFun2A(2015)\n",
    "assignment2BJSON_2016 = myFun2A(2016)"
   ]
  },
  {
   "cell_type": "code",
   "execution_count": 8,
   "metadata": {
    "collapsed": false
   },
   "outputs": [],
   "source": [
    "# Create JSON function \n",
    "def createJSON(my_dict, file_name):\n",
    "    with open(file_name, 'w') as outfile:\n",
    "        json.dump(my_dict, outfile)\n",
    "        outfile.close()\n",
    "        \n",
    "createJSON(assignment2BJSON_2014, 'data/assignment2BJSON_2014.json')\n",
    "createJSON(assignment2BJSON_2015, 'data/assignment2BJSON_2015.json')\n",
    "createJSON(assignment2BJSON_2016, 'data/assignment2BJSON_2016.json')"
   ]
  },
  {
   "cell_type": "markdown",
   "metadata": {},
   "source": [
    "## Assignment 2B: Visualizing geodata"
   ]
  },
  {
   "cell_type": "code",
   "execution_count": 9,
   "metadata": {
    "collapsed": false
   },
   "outputs": [],
   "source": [
    "# Import and find centers of each district\n",
    "geojson_file = open(\"Data/sfpddistricts.geojson\",\"r\")\n",
    "geojson_decoded = json.load(geojson_file)\n",
    "geojson_file.close()\n",
    "\n",
    "# Dict for names and coordinates\n",
    "dist_names_json = []\n",
    "Ndist = len(geojson_decoded['features'])\n",
    "# Loop though each dist \n",
    "for dd in range(0,Ndist):\n",
    "    tmp_dist = str(geojson_decoded['features'][dd]['properties']['DISTRICT'])\n",
    "    Nii = len(geojson_decoded['features'][dd]['geometry']['coordinates'][0])\n",
    "    tmp_lon = [geojson_decoded['features'][dd]['geometry']['coordinates'][0][ii][0] for ii in range(0,Nii)]\n",
    "    tmp_lon = np.mean([np.min(tmp_lon),np.max(tmp_lon)])\n",
    "    tmp_lat = [geojson_decoded['features'][dd]['geometry']['coordinates'][0][ii][1] for ii in range(0,Nii)]\n",
    "    tmp_lat = np.mean([np.min(tmp_lat),np.max(tmp_lat)])\n",
    "\n",
    "    dist_names_json.append({'lon': tmp_lon,\n",
    "                       'lat': tmp_lat,\n",
    "                       'dist': str(tmp_dist)})\n",
    "\n",
    "# Fix error cordinate in southern\n",
    "dist_names_json[1]['lat'] = 37.782647\n",
    "dist_names_json[1]['lon'] = -122.395717\n",
    "# Create json\n",
    "createJSON(dist_names_json, 'data/dist_names_json.json')"
   ]
  },
  {
   "cell_type": "code",
   "execution_count": 10,
   "metadata": {
    "collapsed": false
   },
   "outputs": [],
   "source": [
    "# Create coordinate list for clustering\n",
    "tmp_X = list(SF_df_pro.X)\n",
    "tmp_Y = list(SF_df_pro.Y)\n",
    "N = len(tmp_X)\n",
    "\n",
    "XX = [[tmp_X[ii], tmp_Y[ii]] for ii in range(0,N)]\n",
    "\n",
    "# K: from 2 till 6 clusters\n",
    "K_range = range(2,7)\n",
    "\n",
    "# Dict which can summaries everything\n",
    "KNN_dict = {}\n",
    "for K in K_range:\n",
    "    # for each each inital K [ii][][]\n",
    "    KNN_dict[K] = {}\n",
    "    KNN_dict[K]['fit'] = KMeans(n_clusters = K, random_state=0).fit(XX)\n",
    "\n",
    "    KNN_dict[K]['c_center'] = {}\n",
    "    KNN_dict[K]['labels'] = {}\n",
    "    \n",
    "    tmp_labels = list(KNN_dict[K]['fit'].labels_)\n",
    "    for kk in range(0,K):\n",
    "        KNN_dict[K]['c_center'][kk] = {}\n",
    "        KNN_dict[K]['c_center'][kk]['lon'] = KNN_dict[K]['fit'].cluster_centers_[kk][0] # lon\n",
    "        KNN_dict[K]['c_center'][kk]['lat'] = KNN_dict[K]['fit'].cluster_centers_[kk][1] # lat\n",
    "        \n",
    "        KNN_dict[K]['labels'][kk] = {}\n",
    "        KNN_dict[K]['labels'][kk]['lon'] = [tmp_X[ii] for ii in range(0,N) if tmp_labels[ii] == kk]\n",
    "        KNN_dict[K]['labels'][kk]['lat'] = [tmp_Y[ii] for ii in range(0,N) if tmp_labels[ii] == kk]"
   ]
  },
  {
   "cell_type": "code",
   "execution_count": 11,
   "metadata": {
    "collapsed": false
   },
   "outputs": [],
   "source": [
    "# Create geojson for coordinates\n",
    "def createGEOJSON(K):\n",
    "    # Colors for each cluster, max six clusters\n",
    "    cluster_color = [\"rgba(255,0,255,0.5)\",\n",
    "                     \"rgba(0,0,255,0.5)\",\n",
    "                     \"rgba(0,255,0,0.5)\",\n",
    "                     \"rgba(255,255,0,0.5)\",\n",
    "                     \"rgba(255,0,0,0.5)\",\n",
    "                     \"rgba(0,255,255,0.5)\"]\n",
    "    \n",
    "    tmp = [] # tmp list\n",
    "    # capture number of obs.\n",
    "    no_obs = sum([len(KNN_dict[K]['labels'][kk]['lon']) for kk in range(0,K)])\n",
    "    \n",
    "    # Loop through each assigned coordinates for each cluster\n",
    "    for kk in range(0,K):\n",
    "        # Append coordinates \n",
    "        tmp_len = len(KNN_dict[K]['labels'][kk]['lon'])\n",
    "       \n",
    "        for jj in range(0,tmp_len):\n",
    "            tmp.append({'lon': KNN_dict[K]['labels'][kk]['lon'][jj],\n",
    "                        'lat': KNN_dict[K]['labels'][kk]['lat'][jj],\n",
    "                        'col': kk,\n",
    "                        'r': 3,\n",
    "                        'farve': cluster_color[kk],\n",
    "                        'stroke': cluster_color[kk],\n",
    "                        'no': tmp_len,\n",
    "                        'ratio': \"{0:.2f}\".format(tmp_len / no_obs * 100)})\n",
    "    \n",
    "    # Place centroids at the end of the list\n",
    "    for kk in range(0,K):\n",
    "        tmp_len = len(KNN_dict[K]['labels'][kk]['lon'])\n",
    "        tmp.append({'lon': KNN_dict[K]['c_center'][kk]['lon'],\n",
    "                    'lat': KNN_dict[K]['c_center'][kk]['lat'],\n",
    "                    'col': kk,\n",
    "                    'r': 8,\n",
    "                    'stroke': \"rgba(0,0,0,1)\",\n",
    "                    'farve': cluster_color[kk],\n",
    "                    'no': tmp_len,\n",
    "                    'ratio': \"{0:.2f}\".format(tmp_len / no_obs * 100)})\n",
    "    return(tmp)\n"
   ]
  },
  {
   "cell_type": "code",
   "execution_count": 12,
   "metadata": {
    "collapsed": false
   },
   "outputs": [],
   "source": [
    "# K = 2\n",
    "assignment2DJSON_K2 = createGEOJSON(2)\n",
    "createJSON(assignment2DJSON_K2, 'data/assignment2DJSON_K2.json')\n",
    "\n",
    "# K = 3\n",
    "assignment2DJSON_K3 = createGEOJSON(3)\n",
    "createJSON(assignment2DJSON_K3, 'data/assignment2DJSON_K3.json')\n",
    "\n",
    "# K = 4\n",
    "assignment2DJSON_K4 = createGEOJSON(4)\n",
    "createJSON(assignment2DJSON_K4, 'data/assignment2DJSON_K4.json')\n",
    "\n",
    "# K = 5\n",
    "assignment2DJSON_K5 = createGEOJSON(5)\n",
    "createJSON(assignment2DJSON_K5, 'data/assignment2DJSON_K5.json')\n",
    "\n",
    "## K = 6\n",
    "assignment2DJSON_K6 = createGEOJSON(6)\n",
    "createJSON(assignment2DJSON_K6, 'data/assignment2DJSON_K6.json')\n"
   ]
  },
  {
   "cell_type": "code",
   "execution_count": null,
   "metadata": {
    "collapsed": true
   },
   "outputs": [],
   "source": []
  }
 ],
 "metadata": {
  "anaconda-cloud": {},
  "kernelspec": {
   "display_name": "Python 2",
   "language": "python",
   "name": "python2"
  },
  "language_info": {
   "codemirror_mode": {
    "name": "ipython",
    "version": 2
   },
   "file_extension": ".py",
   "mimetype": "text/x-python",
   "name": "python",
   "nbconvert_exporter": "python",
   "pygments_lexer": "ipython2",
   "version": "2.7.12"
  }
 },
 "nbformat": 4,
 "nbformat_minor": 1
}
